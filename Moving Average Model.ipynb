{
 "cells": [
  {
   "cell_type": "code",
   "execution_count": 41,
   "id": "412bada5",
   "metadata": {},
   "outputs": [
    {
     "name": "stdout",
     "output_type": "stream",
     "text": [
      "Note: you may need to restart the kernel to use updated packages.\n",
      "Note: you may need to restart the kernel to use updated packages.\n",
      "Note: you may need to restart the kernel to use updated packages.\n"
     ]
    }
   ],
   "source": [
    "# Step 1: Import Libraries\n",
    "%pip install yfinance --quiet\n",
    "%pip install plotly --quiet\n",
    "%pip install statsmodels --quiet\n",
    "\n",
    "import yfinance as yf\n",
    "import pandas as pd\n",
    "import numpy as np\n",
    "import matplotlib.pyplot as plt\n",
    "from sklearn.metrics import mean_squared_error\n",
    "import plotly.graph_objects as go\n",
    "from statsmodels.tsa.stattools import adfuller\n",
    "from statsmodels.tsa.seasonal import seasonal_decompose\n",
    "from statsmodels.tsa.holtwinters import ExponentialSmoothing"
   ]
  },
  {
   "cell_type": "code",
   "execution_count": 42,
   "id": "812eb30a",
   "metadata": {},
   "outputs": [
    {
     "name": "stderr",
     "output_type": "stream",
     "text": [
      "C:\\Users\\vikas\\AppData\\Local\\Temp\\ipykernel_24168\\968951104.py:3: FutureWarning:\n",
      "\n",
      "YF.download() has changed argument auto_adjust default to True\n",
      "\n",
      "[*********************100%***********************]  1 of 1 completed\n"
     ]
    },
    {
     "data": {
      "text/html": [
       "<div>\n",
       "<style scoped>\n",
       "    .dataframe tbody tr th:only-of-type {\n",
       "        vertical-align: middle;\n",
       "    }\n",
       "\n",
       "    .dataframe tbody tr th {\n",
       "        vertical-align: top;\n",
       "    }\n",
       "\n",
       "    .dataframe thead tr th {\n",
       "        text-align: left;\n",
       "    }\n",
       "\n",
       "    .dataframe thead tr:last-of-type th {\n",
       "        text-align: right;\n",
       "    }\n",
       "</style>\n",
       "<table border=\"1\" class=\"dataframe\">\n",
       "  <thead>\n",
       "    <tr>\n",
       "      <th>Price</th>\n",
       "      <th>Close</th>\n",
       "      <th>High</th>\n",
       "      <th>Low</th>\n",
       "      <th>Open</th>\n",
       "      <th>Volume</th>\n",
       "    </tr>\n",
       "    <tr>\n",
       "      <th>Ticker</th>\n",
       "      <th>ABCAPITAL.NS</th>\n",
       "      <th>ABCAPITAL.NS</th>\n",
       "      <th>ABCAPITAL.NS</th>\n",
       "      <th>ABCAPITAL.NS</th>\n",
       "      <th>ABCAPITAL.NS</th>\n",
       "    </tr>\n",
       "    <tr>\n",
       "      <th>Date</th>\n",
       "      <th></th>\n",
       "      <th></th>\n",
       "      <th></th>\n",
       "      <th></th>\n",
       "      <th></th>\n",
       "    </tr>\n",
       "  </thead>\n",
       "  <tbody>\n",
       "    <tr>\n",
       "      <th>2024-01-01</th>\n",
       "      <td>166.050003</td>\n",
       "      <td>169.000000</td>\n",
       "      <td>165.500000</td>\n",
       "      <td>169.000000</td>\n",
       "      <td>4244834</td>\n",
       "    </tr>\n",
       "    <tr>\n",
       "      <th>2024-01-02</th>\n",
       "      <td>170.600006</td>\n",
       "      <td>171.600006</td>\n",
       "      <td>164.399994</td>\n",
       "      <td>166.800003</td>\n",
       "      <td>12968451</td>\n",
       "    </tr>\n",
       "    <tr>\n",
       "      <th>2024-01-03</th>\n",
       "      <td>170.399994</td>\n",
       "      <td>172.350006</td>\n",
       "      <td>169.250000</td>\n",
       "      <td>171.300003</td>\n",
       "      <td>6963477</td>\n",
       "    </tr>\n",
       "    <tr>\n",
       "      <th>2024-01-04</th>\n",
       "      <td>174.100006</td>\n",
       "      <td>174.600006</td>\n",
       "      <td>170.600006</td>\n",
       "      <td>171.699997</td>\n",
       "      <td>7927230</td>\n",
       "    </tr>\n",
       "    <tr>\n",
       "      <th>2024-01-05</th>\n",
       "      <td>175.100006</td>\n",
       "      <td>179.199997</td>\n",
       "      <td>173.000000</td>\n",
       "      <td>175.000000</td>\n",
       "      <td>14396150</td>\n",
       "    </tr>\n",
       "  </tbody>\n",
       "</table>\n",
       "</div>"
      ],
      "text/plain": [
       "Price             Close         High          Low         Open       Volume\n",
       "Ticker     ABCAPITAL.NS ABCAPITAL.NS ABCAPITAL.NS ABCAPITAL.NS ABCAPITAL.NS\n",
       "Date                                                                       \n",
       "2024-01-01   166.050003   169.000000   165.500000   169.000000      4244834\n",
       "2024-01-02   170.600006   171.600006   164.399994   166.800003     12968451\n",
       "2024-01-03   170.399994   172.350006   169.250000   171.300003      6963477\n",
       "2024-01-04   174.100006   174.600006   170.600006   171.699997      7927230\n",
       "2024-01-05   175.100006   179.199997   173.000000   175.000000     14396150"
      ]
     },
     "execution_count": 42,
     "metadata": {},
     "output_type": "execute_result"
    }
   ],
   "source": [
    "# Step 2: Load the Stock Data\n",
    "stock = \"ABCAPITAL.NS\"\n",
    "data = yf.download(stock, start=\"2024-01-01\", end=\"2024-09-30\")\n",
    "\n",
    "\n",
    "# Display the first few rows of the data\n",
    "data.head()\n"
   ]
  },
  {
   "cell_type": "code",
   "execution_count": 43,
   "id": "ccdc1b1c",
   "metadata": {},
   "outputs": [
    {
     "name": "stdout",
     "output_type": "stream",
     "text": [
      "p-value: 0.4261036161985823\n",
      "p-value after differencing: 1.1530023965442054e-26\n"
     ]
    }
   ],
   "source": [
    "# Step 3: Data Preparation\n",
    "# 3.1 Check for Stationarity\n",
    "result = adfuller(data['Close'].dropna())\n",
    "print(f'p-value: {result[1]}')\n",
    "\n",
    "# If p-value > 0.05, the data is non-stationary and needs differencing\n",
    "# 3.2 Transform Data if Necessary\n",
    "if result[1] > 0.05:\n",
    "    data['Close_diff'] = data['Close'].diff().dropna()\n",
    "    # Recheck stationarity after differencing\n",
    "    result_diff = adfuller(data['Close_diff'].dropna())\n",
    "    print(f'p-value after differencing: {result_diff[1]}')"
   ]
  },
  {
   "cell_type": "code",
   "execution_count": 44,
   "id": "1ec82156",
   "metadata": {},
   "outputs": [
    {
     "data": {
      "text/html": [
       "<div>\n",
       "<style scoped>\n",
       "    .dataframe tbody tr th:only-of-type {\n",
       "        vertical-align: middle;\n",
       "    }\n",
       "\n",
       "    .dataframe tbody tr th {\n",
       "        vertical-align: top;\n",
       "    }\n",
       "\n",
       "    .dataframe thead tr th {\n",
       "        text-align: left;\n",
       "    }\n",
       "\n",
       "    .dataframe thead tr:last-of-type th {\n",
       "        text-align: right;\n",
       "    }\n",
       "</style>\n",
       "<table border=\"1\" class=\"dataframe\">\n",
       "  <thead>\n",
       "    <tr>\n",
       "      <th>Price</th>\n",
       "      <th>Close</th>\n",
       "      <th>SMA_5</th>\n",
       "      <th>SMA_20</th>\n",
       "      <th>WMA_5</th>\n",
       "      <th>WMA_20</th>\n",
       "    </tr>\n",
       "    <tr>\n",
       "      <th>Ticker</th>\n",
       "      <th>ABCAPITAL.NS</th>\n",
       "      <th></th>\n",
       "      <th></th>\n",
       "      <th></th>\n",
       "      <th></th>\n",
       "    </tr>\n",
       "    <tr>\n",
       "      <th>Date</th>\n",
       "      <th></th>\n",
       "      <th></th>\n",
       "      <th></th>\n",
       "      <th></th>\n",
       "      <th></th>\n",
       "    </tr>\n",
       "  </thead>\n",
       "  <tbody>\n",
       "    <tr>\n",
       "      <th>2024-01-01</th>\n",
       "      <td>166.050003</td>\n",
       "      <td>NaN</td>\n",
       "      <td>NaN</td>\n",
       "      <td>NaN</td>\n",
       "      <td>NaN</td>\n",
       "    </tr>\n",
       "    <tr>\n",
       "      <th>2024-01-02</th>\n",
       "      <td>170.600006</td>\n",
       "      <td>NaN</td>\n",
       "      <td>NaN</td>\n",
       "      <td>NaN</td>\n",
       "      <td>NaN</td>\n",
       "    </tr>\n",
       "    <tr>\n",
       "      <th>2024-01-03</th>\n",
       "      <td>170.399994</td>\n",
       "      <td>NaN</td>\n",
       "      <td>NaN</td>\n",
       "      <td>NaN</td>\n",
       "      <td>NaN</td>\n",
       "    </tr>\n",
       "    <tr>\n",
       "      <th>2024-01-04</th>\n",
       "      <td>174.100006</td>\n",
       "      <td>NaN</td>\n",
       "      <td>NaN</td>\n",
       "      <td>NaN</td>\n",
       "      <td>NaN</td>\n",
       "    </tr>\n",
       "    <tr>\n",
       "      <th>2024-01-05</th>\n",
       "      <td>175.100006</td>\n",
       "      <td>171.250003</td>\n",
       "      <td>NaN</td>\n",
       "      <td>172.690003</td>\n",
       "      <td>NaN</td>\n",
       "    </tr>\n",
       "  </tbody>\n",
       "</table>\n",
       "</div>"
      ],
      "text/plain": [
       "Price             Close       SMA_5 SMA_20       WMA_5 WMA_20\n",
       "Ticker     ABCAPITAL.NS                                      \n",
       "Date                                                         \n",
       "2024-01-01   166.050003         NaN    NaN         NaN    NaN\n",
       "2024-01-02   170.600006         NaN    NaN         NaN    NaN\n",
       "2024-01-03   170.399994         NaN    NaN         NaN    NaN\n",
       "2024-01-04   174.100006         NaN    NaN         NaN    NaN\n",
       "2024-01-05   175.100006  171.250003    NaN  172.690003    NaN"
      ]
     },
     "execution_count": 44,
     "metadata": {},
     "output_type": "execute_result"
    }
   ],
   "source": [
    "# Step 4: Calculate Moving Averages\n",
    "# Calculate Simple Moving Averages (SMA)\n",
    "data['SMA_5'] = data['Close'].rolling(window=5).mean()\n",
    "data['SMA_20'] = data['Close'].rolling(window=20).mean()\n",
    "\n",
    "# Calculate Weighted Moving Averages (WMA)\n",
    "def weighted_moving_average(series, window_size):\n",
    "    weights = np.arange(1, window_size + 1)\n",
    "    return series.rolling(window=window_size).apply(lambda x: np.dot(x, weights) / weights.sum(), raw=True)\n",
    "\n",
    "data['WMA_5'] = weighted_moving_average(data['Close'], window_size=5)\n",
    "data['WMA_20'] = weighted_moving_average(data['Close'], window_size=20)\n",
    "\n",
    "# Display the first few rows with SMAs and WMAs\n",
    "data[['Close', 'SMA_5', 'SMA_20', 'WMA_5', 'WMA_20']].head()\n"
   ]
  },
  {
   "cell_type": "code",
   "execution_count": 45,
   "id": "2b30f65f",
   "metadata": {},
   "outputs": [
    {
     "data": {
      "image/png": "[encoded data removed]",
      "text/plain": [
       "<Figure size 1200x600 with 1 Axes>"
      ]
     },
     "metadata": {},
     "output_type": "display_data"
    }
   ],
   "source": [
    "# Step 5: Split the Data into Training and Test Sets\n",
    "train_size = int(len(data) * 0.8)\n",
    "train, test = data.iloc[:train_size], data.iloc[train_size:]\n",
    "\n",
    "# Plot the training and test data with moving averages\n",
    "plt.figure(figsize=(12, 6))\n",
    "plt.plot(train['Close'], label='Training Data')\n",
    "plt.plot(test['Close'], label='Test Data')\n",
    "plt.plot(train['SMA_5'], label='5-Day SMA')\n",
    "plt.plot(train['SMA_20'], label='20-Day SMA')\n",
    "plt.plot(train['WMA_5'], label='5-Day WMA')\n",
    "plt.plot(train['WMA_20'], label='20-Day WMA')\n",
    "plt.legend(loc='best')\n",
    "plt.show()\n"
   ]
  },
  {
   "cell_type": "code",
   "execution_count": 46,
   "id": "f130f34c",
   "metadata": {},
   "outputs": [
    {
     "name": "stdout",
     "output_type": "stream",
     "text": [
      "Forecasted value: 234.44400024414062\n"
     ]
    }
   ],
   "source": [
    "# Step 6: Model Fitting and Forecasting\n",
    "# 6.1 Forecasting with Moving Average\n",
    "last_observations = data['Close'][-5:]\n",
    "forecast = np.mean(last_observations)\n",
    "print(f'Forecasted value: {forecast}')\n"
   ]
  },
  {
   "cell_type": "code",
   "execution_count": 47,
   "id": "670cfd5b",
   "metadata": {},
   "outputs": [
    {
     "name": "stdout",
     "output_type": "stream",
     "text": [
      "Mean Squared Error for 5-Day MA: 25.986942142191687\n",
      "Root Mean Squared Error for 5-Day MA: 5.097738924483254\n",
      "Mean Squared Error for 20-Day MA: 50.21187053750333\n",
      "Root Mean Squared Error for 20-Day MA: 7.086033484080027\n"
     ]
    }
   ],
   "source": [
    "# Step 7: Model Evaluation\n",
    "# 7.1 Calculate Mean Squared Error (MSE) and Root Mean Squared Error (RMSE)\n",
    "def evaluate_moving_average(test, window_size):\n",
    "    predictions = test['Close'].shift(1).rolling(window=window_size).mean()\n",
    "    mse = mean_squared_error(test['Close'][window_size:], predictions[window_size:])\n",
    "    rmse = np.sqrt(mse)\n",
    "    return mse, rmse\n",
    "\n",
    "mse_5, rmse_5 = evaluate_moving_average(test, 5)\n",
    "mse_20, rmse_20 = evaluate_moving_average(test, 20)\n",
    "print(f'Mean Squared Error for 5-Day MA: {mse_5}')\n",
    "print(f'Root Mean Squared Error for 5-Day MA: {rmse_5}')\n",
    "print(f'Mean Squared Error for 20-Day MA: {mse_20}')\n",
    "print(f'Root Mean Squared Error for 20-Day MA: {rmse_20}')\n"
   ]
  },
  {
   "cell_type": "code",
   "execution_count": 48,
   "id": "fdecc37f",
   "metadata": {},
   "outputs": [
    {
     "data": {
      "image/png": "[encoded data removed]",
      "text/plain": [
       "<Figure size 1200x1200 with 4 Axes>"
      ]
     },
     "metadata": {},
     "output_type": "display_data"
    }
   ],
   "source": [
    "# Step 8: Data Decomposition\n",
    "\n",
    "from statsmodels.tsa.seasonal import seasonal_decompose\n",
    "\n",
    "# Decompose the time series data\n",
    "decomposition = seasonal_decompose(data['Close'].dropna(), model='additive', period=30)\n",
    "\n",
    "# Plot the decomposition\n",
    "fig, axs = plt.subplots(4, 1, figsize=(12, 12), sharex=True)\n",
    "\n",
    "# Original Series\n",
    "axs[0].plot(decomposition.observed)\n",
    "axs[0].set_title('Original Series')\n",
    "\n",
    "# Trend Component\n",
    "axs[1].plot(decomposition.trend)\n",
    "axs[1].set_title('Trend Component')\n",
    "\n",
    "# Seasonal Component\n",
    "axs[2].plot(decomposition.seasonal)\n",
    "axs[2].set_title('Seasonal Component')\n",
    "\n",
    "# Residual Component\n",
    "axs[3].plot(decomposition.resid)\n",
    "axs[3].set_title('Residual Component')\n",
    "\n",
    "plt.xlabel('Date')\n",
    "plt.tight_layout()\n",
    "plt.show()\n"
   ]
  },
  {
   "cell_type": "code",
   "execution_count": 49,
   "id": "97130db9",
   "metadata": {},
   "outputs": [
    {
     "name": "stderr",
     "output_type": "stream",
     "text": [
      "c:\\Users\\vikas\\anaconda3\\Lib\\site-packages\\statsmodels\\tsa\\base\\tsa_model.py:473: ValueWarning:\n",
      "\n",
      "A date index has been provided, but it has no associated frequency information and so will be ignored when e.g. forecasting.\n",
      "\n",
      "c:\\Users\\vikas\\anaconda3\\Lib\\site-packages\\statsmodels\\tsa\\base\\tsa_model.py:837: ValueWarning:\n",
      "\n",
      "No supported index is available. Prediction results will be given with an integer index beginning at `start`.\n",
      "\n",
      "c:\\Users\\vikas\\anaconda3\\Lib\\site-packages\\statsmodels\\tsa\\base\\tsa_model.py:837: FutureWarning:\n",
      "\n",
      "No supported index is available. In the next version, calling this method in a model without a supported index will result in an exception.\n",
      "\n"
     ]
    }
   ],
   "source": [
    "from statsmodels.tsa.holtwinters import ExponentialSmoothing\n",
    "\n",
    "# Use trend='add' for additive trend (Holt's method)\n",
    "es_model = ExponentialSmoothing(train['Close'], trend='add', seasonal=None)\n",
    "es_fitted = es_model.fit()\n",
    "es_forecast = es_fitted.forecast(steps=len(test))\n",
    "es_forecast.index = test.index\n",
    "\n",
    "# Calculate confidence intervals (optional, for plotting)\n",
    "forecast_se = np.std(es_fitted.resid)\n",
    "ci_upper = es_forecast + 1.96 * forecast_se\n",
    "ci_lower = es_forecast - 1.96 * forecast_se"
   ]
  },
  {
   "cell_type": "code",
   "execution_count": 50,
   "id": "de159f37",
   "metadata": {},
   "outputs": [
    {
     "name": "stdout",
     "output_type": "stream",
     "text": [
      "First 10 forecast values: [204.51373473 204.77620739 205.03868004 205.3011527  205.56362536\n",
      " 205.82609801 206.08857067 206.35104333 206.61351599 206.87598864]\n",
      "First 10 test values: [[211.52000427]\n",
      " [210.58999634]\n",
      " [211.80000305]\n",
      " [212.58999634]\n",
      " [207.69000244]\n",
      " [203.47000122]\n",
      " [216.08999634]\n",
      " [213.        ]\n",
      " [218.11000061]\n",
      " [222.21000671]]\n"
     ]
    }
   ],
   "source": [
    "print(\"First 10 forecast values:\", es_forecast.head(10).values)\n",
    "print(\"First 10 test values:\", test['Close'].head(10).values)"
   ]
  },
  {
   "cell_type": "code",
   "execution_count": 51,
   "id": "f75de472",
   "metadata": {},
   "outputs": [
    {
     "data": {
      "image/png": "[encoded data removed]",
      "text/plain": [
       "<Figure size 1000x400 with 1 Axes>"
      ]
     },
     "metadata": {},
     "output_type": "display_data"
    }
   ],
   "source": [
    "plt.figure(figsize=(10,4))\n",
    "plt.plot(train.index, train['Close'], label='Training Data')\n",
    "plt.title('Training Data')\n",
    "plt.legend()\n",
    "plt.show()"
   ]
  },
  {
   "cell_type": "code",
   "execution_count": 52,
   "id": "09c4e4da",
   "metadata": {},
   "outputs": [
    {
     "data": {
      "image/png": "[encoded data removed]",
      "text/plain": [
       "<Figure size 1400x700 with 1 Axes>"
      ]
     },
     "metadata": {},
     "output_type": "display_data"
    }
   ],
   "source": [
    "plt.figure(figsize=(14, 7))\n",
    "plt.plot(data.index, data['Close'], label='Actual Data', color='gray', alpha=0.6)\n",
    "plt.plot(train.index, es_fitted.fittedvalues, label='Smoothed (Train)', color='blue', linewidth=2)\n",
    "plt.plot(test.index, es_forecast, label='Forecast', color='orange', linestyle='--', marker='o', linewidth=2)\n",
    "plt.legend()\n",
    "plt.xlim(train.index[-30], test.index[-1])  # Show only last 30 train days + test period\n",
    "plt.show()"
   ]
  },
  {
   "cell_type": "code",
   "execution_count": 53,
   "id": "44a69be4",
   "metadata": {},
   "outputs": [
    {
     "data": {
      "application/vnd.plotly.v1+json": {
       "config": {
        "plotlyServerURL": "https://plot.ly"
       },
       "data": [
        {
         "close": [
          [
           166.0500030517578
          ],
          [
           170.60000610351562
          ],
          [
           170.39999389648438
          ],
          [
           174.10000610351562
          ],
          [
           175.10000610351562
          ],
          [
           175.39999389648438
          ],
          [
           175.14999389648438
          ],
          [
           173.3000030517578
          ],
          [
           180.5500030517578
          ],
          [
           179.35000610351562
          ],
          [
           179.14999389648438
          ],
          [
           179.10000610351562
          ],
          [
           175.10000610351562
          ],
          [
           175.10000610351562
          ],
          [
           174.6999969482422
          ],
          [
           163.5
          ],
          [
           165.8000030517578
          ],
          [
           165.75
          ],
          [
           168.3000030517578
          ],
          [
           168.4499969482422
          ],
          [
           171.10000610351562
          ],
          [
           166.85000610351562
          ],
          [
           180.35000610351562
          ],
          [
           178.1999969482422
          ],
          [
           180.14999389648438
          ],
          [
           187.60000610351562
          ],
          [
           186.9499969482422
          ],
          [
           187.89999389648438
          ],
          [
           180.39999389648438
          ],
          [
           180.0500030517578
          ],
          [
           182.5
          ],
          [
           181.3000030517578
          ],
          [
           186.0500030517578
          ],
          [
           184.5500030517578
          ],
          [
           183.9499969482422
          ],
          [
           182.60000610351562
          ],
          [
           184.5
          ],
          [
           187.35000610351562
          ],
          [
           189.35000610351562
          ],
          [
           187.85000610351562
          ],
          [
           181.75
          ],
          [
           183.64999389648438
          ],
          [
           187.10000610351562
          ],
          [
           190.9499969482422
          ],
          [
           192
          ],
          [
           180.9499969482422
          ],
          [
           182.10000610351562
          ],
          [
           179.85000610351562
          ],
          [
           183.6999969482422
          ],
          [
           171.39999389648438
          ],
          [
           173.0500030517578
          ],
          [
           173.8000030517578
          ],
          [
           172.89999389648438
          ],
          [
           170
          ],
          [
           169.0500030517578
          ],
          [
           173.4499969482422
          ],
          [
           175.0500030517578
          ],
          [
           177.10000610351562
          ],
          [
           175.5500030517578
          ],
          [
           175.39999389648438
          ],
          [
           181.85000610351562
          ],
          [
           201.0500030517578
          ],
          [
           204.1999969482422
          ],
          [
           205.5500030517578
          ],
          [
           204.8000030517578
          ],
          [
           203.14999389648438
          ],
          [
           202.9499969482422
          ],
          [
           202.89999389648438
          ],
          [
           202.5500030517578
          ],
          [
           205.5500030517578
          ],
          [
           203.5
          ],
          [
           201.9499969482422
          ],
          [
           200.89999389648438
          ],
          [
           202.6999969482422
          ],
          [
           216.85000610351562
          ],
          [
           216.3000030517578
          ],
          [
           229.8000030517578
          ],
          [
           231.3000030517578
          ],
          [
           240.64999389648438
          ],
          [
           231.39999389648438
          ],
          [
           232.39999389648438
          ],
          [
           231.10000610351562
          ],
          [
           227.10000610351562
          ],
          [
           219.75
          ],
          [
           217.85000610351562
          ],
          [
           209.39999389648438
          ],
          [
           216.1999969482422
          ],
          [
           222.35000610351562
          ],
          [
           220.3000030517578
          ],
          [
           220.4499969482422
          ],
          [
           221.64999389648438
          ],
          [
           225.64999389648438
          ],
          [
           225.1999969482422
          ],
          [
           223.35000610351562
          ],
          [
           226.0500030517578
          ],
          [
           228.5500030517578
          ],
          [
           226.85000610351562
          ],
          [
           227.1999969482422
          ],
          [
           225.85000610351562
          ],
          [
           221.3000030517578
          ],
          [
           223.85000610351562
          ],
          [
           229.5500030517578
          ],
          [
           206.10000610351562
          ],
          [
           215.5500030517578
          ],
          [
           228.5500030517578
          ],
          [
           231.89999389648438
          ],
          [
           232.92999267578125
          ],
          [
           234.11000061035156
          ],
          [
           234.22000122070312
          ],
          [
           239.0800018310547
          ],
          [
           239.9600067138672
          ],
          [
           236.05999755859375
          ],
          [
           238.10000610351562
          ],
          [
           243.02000427246094
          ],
          [
           241.3000030517578
          ],
          [
           239.35000610351562
          ],
          [
           237.52000427246094
          ],
          [
           237.60000610351562
          ],
          [
           235.35000610351562
          ],
          [
           238.7100067138672
          ],
          [
           240.1999969482422
          ],
          [
           236.55999755859375
          ],
          [
           237.55999755859375
          ],
          [
           237.3800048828125
          ],
          [
           236.00999450683594
          ],
          [
           230.92999267578125
          ],
          [
           230.1300048828125
          ],
          [
           229.63999938964844
          ],
          [
           226.33999633789062
          ],
          [
           224.75
          ],
          [
           226.4600067138672
          ],
          [
           225.4199981689453
          ],
          [
           222.72999572753906
          ],
          [
           215.63999938964844
          ],
          [
           217.5399932861328
          ],
          [
           215.1999969482422
          ],
          [
           215.50999450683594
          ],
          [
           217.64999389648438
          ],
          [
           223.42999267578125
          ],
          [
           223.82000732421875
          ],
          [
           223
          ],
          [
           226.8800048828125
          ],
          [
           220.08999633789062
          ],
          [
           211.58999633789062
          ],
          [
           206.0500030517578
          ],
          [
           204.1699981689453
          ],
          [
           211.52000427246094
          ],
          [
           210.58999633789062
          ],
          [
           211.8000030517578
          ],
          [
           212.58999633789062
          ],
          [
           207.69000244140625
          ],
          [
           203.47000122070312
          ],
          [
           216.08999633789062
          ],
          [
           213
          ],
          [
           218.11000061035156
          ],
          [
           222.2100067138672
          ],
          [
           223.27000427246094
          ],
          [
           219.0800018310547
          ],
          [
           221.82000732421875
          ],
          [
           222.77000427246094
          ],
          [
           221.99000549316406
          ],
          [
           221.1300048828125
          ],
          [
           220.11000061035156
          ],
          [
           226.9600067138672
          ],
          [
           224.8699951171875
          ],
          [
           221.74000549316406
          ],
          [
           223.64999389648438
          ],
          [
           216.77999877929688
          ],
          [
           216.75
          ],
          [
           217.4199981689453
          ],
          [
           213.86000061035156
          ],
          [
           220.49000549316406
          ],
          [
           226.10000610351562
          ],
          [
           226.42999267578125
          ],
          [
           225.1699981689453
          ],
          [
           227.14999389648438
          ],
          [
           229.5399932861328
          ],
          [
           228.2899932861328
          ],
          [
           233.64999389648438
          ],
          [
           232.7899932861328
          ],
          [
           233.24000549316406
          ],
          [
           236.24000549316406
          ],
          [
           236.3000030517578
          ]
         ],
         "high": [
          [
           169
          ],
          [
           171.60000610351562
          ],
          [
           172.35000610351562
          ],
          [
           174.60000610351562
          ],
          [
           179.1999969482422
          ],
          [
           178.6999969482422
          ],
          [
           177.4499969482422
          ],
          [
           175.9499969482422
          ],
          [
           181
          ],
          [
           181
          ],
          [
           182
          ],
          [
           181.3000030517578
          ],
          [
           178.89999389648438
          ],
          [
           176
          ],
          [
           176.89999389648438
          ],
          [
           175.3000030517578
          ],
          [
           166.25
          ],
          [
           167.10000610351562
          ],
          [
           169.14999389648438
          ],
          [
           171.1999969482422
          ],
          [
           172.1999969482422
          ],
          [
           170.9499969482422
          ],
          [
           185.39999389648438
          ],
          [
           184.39999389648438
          ],
          [
           180.5
          ],
          [
           188.75
          ],
          [
           191.8000030517578
          ],
          [
           189.10000610351562
          ],
          [
           189.35000610351562
          ],
          [
           181.85000610351562
          ],
          [
           183.35000610351562
          ],
          [
           184
          ],
          [
           189.64999389648438
          ],
          [
           187.39999389648438
          ],
          [
           184.64999389648438
          ],
          [
           186.9499969482422
          ],
          [
           184.9499969482422
          ],
          [
           188.35000610351562
          ],
          [
           193.75
          ],
          [
           193.1999969482422
          ],
          [
           189.10000610351562
          ],
          [
           185
          ],
          [
           187.85000610351562
          ],
          [
           194.39999389648438
          ],
          [
           194.39999389648438
          ],
          [
           192.3000030517578
          ],
          [
           186.4499969482422
          ],
          [
           184.85000610351562
          ],
          [
           190.3000030517578
          ],
          [
           184.10000610351562
          ],
          [
           173.89999389648438
          ],
          [
           174.3000030517578
          ],
          [
           174.39999389648438
          ],
          [
           174.35000610351562
          ],
          [
           171.5500030517578
          ],
          [
           174
          ],
          [
           176.3000030517578
          ],
          [
           178.89999389648438
          ],
          [
           178.39999389648438
          ],
          [
           176.9499969482422
          ],
          [
           182.39999389648438
          ],
          [
           204.5
          ],
          [
           206.8000030517578
          ],
          [
           208.6999969482422
          ],
          [
           206.64999389648438
          ],
          [
           207.0500030517578
          ],
          [
           206.39999389648438
          ],
          [
           204.5500030517578
          ],
          [
           208.1999969482422
          ],
          [
           207.5
          ],
          [
           211
          ],
          [
           208.6999969482422
          ],
          [
           202.6999969482422
          ],
          [
           204.4499969482422
          ],
          [
           220
          ],
          [
           225.64999389648438
          ],
          [
           230.85000610351562
          ],
          [
           236.9499969482422
          ],
          [
           241.64999389648438
          ],
          [
           243.6999969482422
          ],
          [
           234.75
          ],
          [
           234.39999389648438
          ],
          [
           232.89999389648438
          ],
          [
           226.6999969482422
          ],
          [
           220.8000030517578
          ],
          [
           218.8000030517578
          ],
          [
           217
          ],
          [
           226.14999389648438
          ],
          [
           223.9499969482422
          ],
          [
           224.85000610351562
          ],
          [
           222.39999389648438
          ],
          [
           229.4499969482422
          ],
          [
           227.5
          ],
          [
           227.35000610351562
          ],
          [
           227.8000030517578
          ],
          [
           231.10000610351562
          ],
          [
           234
          ],
          [
           234.1999969482422
          ],
          [
           228.8000030517578
          ],
          [
           226.6999969482422
          ],
          [
           225.89999389648438
          ],
          [
           234.35000610351562
          ],
          [
           229.14999389648438
          ],
          [
           219
          ],
          [
           232.5500030517578
          ],
          [
           237.39999389648438
          ],
          [
           235.75
          ],
          [
           238.42999267578125
          ],
          [
           236.83999633789062
          ],
          [
           241.16000366210938
          ],
          [
           243.3000030517578
          ],
          [
           241.64999389648438
          ],
          [
           240.5
          ],
          [
           246.89999389648438
          ],
          [
           245.8000030517578
          ],
          [
           240.77000427246094
          ],
          [
           241
          ],
          [
           239.6999969482422
          ],
          [
           238.39999389648438
          ],
          [
           243.38999938964844
          ],
          [
           240.99000549316406
          ],
          [
           242.41000366210938
          ],
          [
           238.27999877929688
          ],
          [
           240.5500030517578
          ],
          [
           239.4600067138672
          ],
          [
           237.0399932861328
          ],
          [
           232.08999633789062
          ],
          [
           231.14999389648438
          ],
          [
           231.27999877929688
          ],
          [
           228.74000549316406
          ],
          [
           228
          ],
          [
           228.17999267578125
          ],
          [
           225.69000244140625
          ],
          [
           223.33999633789062
          ],
          [
           218.3699951171875
          ],
          [
           218.85000610351562
          ],
          [
           217.7899932861328
          ],
          [
           219.25
          ],
          [
           224.4499969482422
          ],
          [
           225.22000122070312
          ],
          [
           224.5
          ],
          [
           227.60000610351562
          ],
          [
           229.39999389648438
          ],
          [
           217.14999389648438
          ],
          [
           209.38999938964844
          ],
          [
           210.89999389648438
          ],
          [
           212.69000244140625
          ],
          [
           214.14999389648438
          ],
          [
           213.77999877929688
          ],
          [
           214.32000732421875
          ],
          [
           214.52000427246094
          ],
          [
           210.35000610351562
          ],
          [
           216.97999572753906
          ],
          [
           217.8699951171875
          ],
          [
           219.60000610351562
          ],
          [
           224.3300018310547
          ],
          [
           226
          ],
          [
           224.24000549316406
          ],
          [
           222.47000122070312
          ],
          [
           225.6999969482422
          ],
          [
           224.6999969482422
          ],
          [
           223.72999572753906
          ],
          [
           223.36000061035156
          ],
          [
           227.39999389648438
          ],
          [
           229.4499969482422
          ],
          [
           223.97999572753906
          ],
          [
           224.5
          ],
          [
           224.35000610351562
          ],
          [
           218
          ],
          [
           220.74000549316406
          ],
          [
           219.97999572753906
          ],
          [
           221.63999938964844
          ],
          [
           227.17999267578125
          ],
          [
           231.63999938964844
          ],
          [
           227.6999969482422
          ],
          [
           228.1199951171875
          ],
          [
           240
          ],
          [
           230.97999572753906
          ],
          [
           236.5
          ],
          [
           235.07000732421875
          ],
          [
           234.49000549316406
          ],
          [
           237.6699981689453
          ],
          [
           240.19000244140625
          ]
         ],
         "low": [
          [
           165.5
          ],
          [
           164.39999389648438
          ],
          [
           169.25
          ],
          [
           170.60000610351562
          ],
          [
           173
          ],
          [
           174.1999969482422
          ],
          [
           174.60000610351562
          ],
          [
           172.1999969482422
          ],
          [
           174.0500030517578
          ],
          [
           178.5
          ],
          [
           177.60000610351562
          ],
          [
           177
          ],
          [
           174.4499969482422
          ],
          [
           171.10000610351562
          ],
          [
           174.25
          ],
          [
           162.6999969482422
          ],
          [
           160.64999389648438
          ],
          [
           164.0500030517578
          ],
          [
           165.8000030517578
          ],
          [
           167.4499969482422
          ],
          [
           168.35000610351562
          ],
          [
           163.35000610351562
          ],
          [
           169
          ],
          [
           177.5
          ],
          [
           176.6999969482422
          ],
          [
           180.35000610351562
          ],
          [
           185.35000610351562
          ],
          [
           181.9499969482422
          ],
          [
           179.6999969482422
          ],
          [
           176.14999389648438
          ],
          [
           176.39999389648438
          ],
          [
           180.8000030517578
          ],
          [
           181.75
          ],
          [
           183.89999389648438
          ],
          [
           182.4499969482422
          ],
          [
           181.89999389648438
          ],
          [
           180.64999389648438
          ],
          [
           182.85000610351562
          ],
          [
           187.39999389648438
          ],
          [
           186.60000610351562
          ],
          [
           181
          ],
          [
           179.60000610351562
          ],
          [
           183
          ],
          [
           186.60000610351562
          ],
          [
           188.0500030517578
          ],
          [
           172.8000030517578
          ],
          [
           181.10000610351562
          ],
          [
           179.14999389648438
          ],
          [
           182.89999389648438
          ],
          [
           169.3000030517578
          ],
          [
           167.4499969482422
          ],
          [
           169.25
          ],
          [
           171.10000610351562
          ],
          [
           169.10000610351562
          ],
          [
           165.89999389648438
          ],
          [
           170.8000030517578
          ],
          [
           173.1999969482422
          ],
          [
           174.5500030517578
          ],
          [
           175.14999389648438
          ],
          [
           174.5500030517578
          ],
          [
           176.3000030517578
          ],
          [
           186
          ],
          [
           198.60000610351562
          ],
          [
           203.5500030517578
          ],
          [
           201.10000610351562
          ],
          [
           202.6999969482422
          ],
          [
           201.75
          ],
          [
           201.5
          ],
          [
           200.75
          ],
          [
           194.25
          ],
          [
           201.10000610351562
          ],
          [
           201.1999969482422
          ],
          [
           195.1999969482422
          ],
          [
           201.0500030517578
          ],
          [
           201.75
          ],
          [
           215.75
          ],
          [
           216.60000610351562
          ],
          [
           230.35000610351562
          ],
          [
           229.6999969482422
          ],
          [
           230.10000610351562
          ],
          [
           231.60000610351562
          ],
          [
           228.10000610351562
          ],
          [
           224.14999389648438
          ],
          [
           212.75
          ],
          [
           214.39999389648438
          ],
          [
           208.35000610351562
          ],
          [
           210.60000610351562
          ],
          [
           210
          ],
          [
           219.0500030517578
          ],
          [
           219.64999389648438
          ],
          [
           219
          ],
          [
           222
          ],
          [
           220.60000610351562
          ],
          [
           220.8000030517578
          ],
          [
           223.0500030517578
          ],
          [
           226.6999969482422
          ],
          [
           225.3000030517578
          ],
          [
           226
          ],
          [
           223.75
          ],
          [
           220.25
          ],
          [
           221.39999389648438
          ],
          [
           227.8000030517578
          ],
          [
           195.5
          ],
          [
           203.8000030517578
          ],
          [
           217
          ],
          [
           230
          ],
          [
           229
          ],
          [
           231.14999389648438
          ],
          [
           233.2100067138672
          ],
          [
           234.61000061035156
          ],
          [
           238.69000244140625
          ],
          [
           225
          ],
          [
           231.1999969482422
          ],
          [
           238.3000030517578
          ],
          [
           239
          ],
          [
           235.10000610351562
          ],
          [
           235.6199951171875
          ],
          [
           234
          ],
          [
           232.75999450683594
          ],
          [
           235.1999969482422
          ],
          [
           237.36000061035156
          ],
          [
           234.39999389648438
          ],
          [
           235.8000030517578
          ],
          [
           236.2100067138672
          ],
          [
           235.66000366210938
          ],
          [
           230.4199981689453
          ],
          [
           229.3699951171875
          ],
          [
           224.50999450683594
          ],
          [
           225.80999755859375
          ],
          [
           224.2899932861328
          ],
          [
           221.60000610351562
          ],
          [
           225
          ],
          [
           222.00999450683594
          ],
          [
           215.0500030517578
          ],
          [
           212.7100067138672
          ],
          [
           205.52999877929688
          ],
          [
           214.2100067138672
          ],
          [
           211.52999877929688
          ],
          [
           217.3000030517578
          ],
          [
           222.5
          ],
          [
           222.41000366210938
          ],
          [
           222.7100067138672
          ],
          [
           217.42999267578125
          ],
          [
           208
          ],
          [
           200.0500030517578
          ],
          [
           202.63999938964844
          ],
          [
           203
          ],
          [
           208.60000610351562
          ],
          [
           210
          ],
          [
           208.41000366210938
          ],
          [
           206.39999389648438
          ],
          [
           201.60000610351562
          ],
          [
           205
          ],
          [
           211.9199981689453
          ],
          [
           213.25
          ],
          [
           218.0399932861328
          ],
          [
           222.19000244140625
          ],
          [
           218.7100067138672
          ],
          [
           219.60000610351562
          ],
          [
           221.08999633789062
          ],
          [
           221.00999450683594
          ],
          [
           218.08999633789062
          ],
          [
           219.6300048828125
          ],
          [
           219.1300048828125
          ],
          [
           223.39999389648438
          ],
          [
           220
          ],
          [
           221.89999389648438
          ],
          [
           215.63999938964844
          ],
          [
           213.64999389648438
          ],
          [
           216.25
          ],
          [
           212.8000030517578
          ],
          [
           214.8300018310547
          ],
          [
           220.8699951171875
          ],
          [
           225.41000366210938
          ],
          [
           222.86000061035156
          ],
          [
           223.14999389648438
          ],
          [
           222.85000610351562
          ],
          [
           225.57000732421875
          ],
          [
           228.2899932861328
          ],
          [
           231
          ],
          [
           230.5
          ],
          [
           231.72000122070312
          ],
          [
           235.10000610351562
          ]
         ],
         "name": "Candlestick",
         "open": [
          [
           169
          ],
          [
           166.8000030517578
          ],
          [
           171.3000030517578
          ],
          [
           171.6999969482422
          ],
          [
           175
          ],
          [
           176
          ],
          [
           177.4499969482422
          ],
          [
           175.9499969482422
          ],
          [
           174.5
          ],
          [
           180.8000030517578
          ],
          [
           180.3000030517578
          ],
          [
           179
          ],
          [
           177
          ],
          [
           175.10000610351562
          ],
          [
           176.89999389648438
          ],
          [
           174.6999969482422
          ],
          [
           163.39999389648438
          ],
          [
           166.8000030517578
          ],
          [
           166.6999969482422
          ],
          [
           169.1999969482422
          ],
          [
           169.60000610351562
          ],
          [
           170.9499969482422
          ],
          [
           169
          ],
          [
           182
          ],
          [
           179.39999389648438
          ],
          [
           181.6999969482422
          ],
          [
           189.5
          ],
          [
           188
          ],
          [
           189.35000610351562
          ],
          [
           180.1999969482422
          ],
          [
           178
          ],
          [
           184
          ],
          [
           181.75
          ],
          [
           187.39999389648438
          ],
          [
           184.5500030517578
          ],
          [
           183.89999389648438
          ],
          [
           183.5
          ],
          [
           185.5500030517578
          ],
          [
           188.6999969482422
          ],
          [
           189.85000610351562
          ],
          [
           187.5500030517578
          ],
          [
           181.9499969482422
          ],
          [
           183
          ],
          [
           186.85000610351562
          ],
          [
           190.5500030517578
          ],
          [
           192.1999969482422
          ],
          [
           182
          ],
          [
           184
          ],
          [
           184.89999389648438
          ],
          [
           184.10000610351562
          ],
          [
           170.9499969482422
          ],
          [
           173.75
          ],
          [
           173.0500030517578
          ],
          [
           174
          ],
          [
           171.39999389648438
          ],
          [
           171.5
          ],
          [
           173.39999389648438
          ],
          [
           175.60000610351562
          ],
          [
           177.25
          ],
          [
           176.89999389648438
          ],
          [
           176.3000030517578
          ],
          [
           188
          ],
          [
           200
          ],
          [
           205
          ],
          [
           205.39999389648438
          ],
          [
           205.85000610351562
          ],
          [
           204.1999969482422
          ],
          [
           203.4499969482422
          ],
          [
           201.9499969482422
          ],
          [
           200.3000030517578
          ],
          [
           206.5
          ],
          [
           205.9499969482422
          ],
          [
           199.5
          ],
          [
           202.89999389648438
          ],
          [
           203.75
          ],
          [
           219.4499969482422
          ],
          [
           217.8000030517578
          ],
          [
           232.8000030517578
          ],
          [
           233
          ],
          [
           241.75
          ],
          [
           232.5500030517578
          ],
          [
           233.14999389648438
          ],
          [
           232.5
          ],
          [
           226.0500030517578
          ],
          [
           220
          ],
          [
           218.8000030517578
          ],
          [
           210.89999389648438
          ],
          [
           216.0500030517578
          ],
          [
           223.9499969482422
          ],
          [
           222
          ],
          [
           221.4499969482422
          ],
          [
           222
          ],
          [
           224.5
          ],
          [
           226.5
          ],
          [
           224.35000610351562
          ],
          [
           227.39999389648438
          ],
          [
           230
          ],
          [
           227.60000610351562
          ],
          [
           227.35000610351562
          ],
          [
           225
          ],
          [
           222
          ],
          [
           234
          ],
          [
           229.14999389648438
          ],
          [
           207.9499969482422
          ],
          [
           217.39999389648438
          ],
          [
           231.5500030517578
          ],
          [
           233.3699951171875
          ],
          [
           232.9499969482422
          ],
          [
           234.6999969482422
          ],
          [
           235.3000030517578
          ],
          [
           239.9499969482422
          ],
          [
           240
          ],
          [
           236.8300018310547
          ],
          [
           238.3000030517578
          ],
          [
           244.0500030517578
          ],
          [
           239.7100067138672
          ],
          [
           238.5
          ],
          [
           238.6999969482422
          ],
          [
           236
          ],
          [
           235.75
          ],
          [
           239.39999389648438
          ],
          [
           241.35000610351562
          ],
          [
           237.9499969482422
          ],
          [
           238.64999389648438
          ],
          [
           237.3800048828125
          ],
          [
           236.00999450683594
          ],
          [
           231.5
          ],
          [
           230.3000030517578
          ],
          [
           229.5
          ],
          [
           227.64999389648438
          ],
          [
           225.33999633789062
          ],
          [
           227.39999389648438
          ],
          [
           224.99000549316406
          ],
          [
           222.39999389648438
          ],
          [
           215
          ],
          [
           217.5399932861328
          ],
          [
           214.9499969482422
          ],
          [
           214.9499969482422
          ],
          [
           219.89999389648438
          ],
          [
           225
          ],
          [
           224.19000244140625
          ],
          [
           223.58999633789062
          ],
          [
           228
          ],
          [
           217
          ],
          [
           204
          ],
          [
           207.75
          ],
          [
           206.39999389648438
          ],
          [
           209.80999755859375
          ],
          [
           212.5500030517578
          ],
          [
           211.60000610351562
          ],
          [
           210.1999969482422
          ],
          [
           208.10000610351562
          ],
          [
           205
          ],
          [
           217.1199951171875
          ],
          [
           213.85000610351562
          ],
          [
           218.9499969482422
          ],
          [
           223.7899932861328
          ],
          [
           223.27000427246094
          ],
          [
           220.5
          ],
          [
           222.6999969482422
          ],
          [
           224.6999969482422
          ],
          [
           221.99000549316406
          ],
          [
           222.7899932861328
          ],
          [
           221
          ],
          [
           228.14999389648438
          ],
          [
           220
          ],
          [
           222.9499969482422
          ],
          [
           223.64999389648438
          ],
          [
           217.89999389648438
          ],
          [
           217.49000549316406
          ],
          [
           218.02999877929688
          ],
          [
           216.08999633789062
          ],
          [
           221.00999450683594
          ],
          [
           227.25
          ],
          [
           227.6999969482422
          ],
          [
           225
          ],
          [
           235.60000610351562
          ],
          [
           230
          ],
          [
           230
          ],
          [
           235
          ],
          [
           231.8000030517578
          ],
          [
           235
          ],
          [
           238
          ]
         ],
         "type": "candlestick",
         "x": [
          "2024-01-01T00:00:00",
          "2024-01-02T00:00:00",
          "2024-01-03T00:00:00",
          "2024-01-04T00:00:00",
          "2024-01-05T00:00:00",
          "2024-01-08T00:00:00",
          "2024-01-09T00:00:00",
          "2024-01-10T00:00:00",
          "2024-01-11T00:00:00",
          "2024-01-12T00:00:00",
          "2024-01-15T00:00:00",
          "2024-01-16T00:00:00",
          "2024-01-17T00:00:00",
          "2024-01-18T00:00:00",
          "2024-01-19T00:00:00",
          "2024-01-23T00:00:00",
          "2024-01-24T00:00:00",
          "2024-01-25T00:00:00",
          "2024-01-29T00:00:00",
          "2024-01-30T00:00:00",
          "2024-01-31T00:00:00",
          "2024-02-01T00:00:00",
          "2024-02-02T00:00:00",
          "2024-02-05T00:00:00",
          "2024-02-06T00:00:00",
          "2024-02-07T00:00:00",
          "2024-02-08T00:00:00",
          "2024-02-09T00:00:00",
          "2024-02-12T00:00:00",
          "2024-02-13T00:00:00",
          "2024-02-14T00:00:00",
          "2024-02-15T00:00:00",
          "2024-02-16T00:00:00",
          "2024-02-19T00:00:00",
          "2024-02-20T00:00:00",
          "2024-02-21T00:00:00",
          "2024-02-22T00:00:00",
          "2024-02-23T00:00:00",
          "2024-02-26T00:00:00",
          "2024-02-27T00:00:00",
          "2024-02-28T00:00:00",
          "2024-02-29T00:00:00",
          "2024-03-01T00:00:00",
          "2024-03-04T00:00:00",
          "2024-03-05T00:00:00",
          "2024-03-06T00:00:00",
          "2024-03-07T00:00:00",
          "2024-03-11T00:00:00",
          "2024-03-12T00:00:00",
          "2024-03-13T00:00:00",
          "2024-03-14T00:00:00",
          "2024-03-15T00:00:00",
          "2024-03-18T00:00:00",
          "2024-03-19T00:00:00",
          "2024-03-20T00:00:00",
          "2024-03-21T00:00:00",
          "2024-03-22T00:00:00",
          "2024-03-26T00:00:00",
          "2024-03-27T00:00:00",
          "2024-03-28T00:00:00",
          "2024-04-01T00:00:00",
          "2024-04-02T00:00:00",
          "2024-04-03T00:00:00",
          "2024-04-04T00:00:00",
          "2024-04-05T00:00:00",
          "2024-04-08T00:00:00",
          "2024-04-09T00:00:00",
          "2024-04-10T00:00:00",
          "2024-04-12T00:00:00",
          "2024-04-15T00:00:00",
          "2024-04-16T00:00:00",
          "2024-04-18T00:00:00",
          "2024-04-19T00:00:00",
          "2024-04-22T00:00:00",
          "2024-04-23T00:00:00",
          "2024-04-24T00:00:00",
          "2024-04-25T00:00:00",
          "2024-04-26T00:00:00",
          "2024-04-29T00:00:00",
          "2024-04-30T00:00:00",
          "2024-05-02T00:00:00",
          "2024-05-03T00:00:00",
          "2024-05-06T00:00:00",
          "2024-05-07T00:00:00",
          "2024-05-08T00:00:00",
          "2024-05-09T00:00:00",
          "2024-05-10T00:00:00",
          "2024-05-13T00:00:00",
          "2024-05-14T00:00:00",
          "2024-05-15T00:00:00",
          "2024-05-16T00:00:00",
          "2024-05-17T00:00:00",
          "2024-05-21T00:00:00",
          "2024-05-22T00:00:00",
          "2024-05-23T00:00:00",
          "2024-05-24T00:00:00",
          "2024-05-27T00:00:00",
          "2024-05-28T00:00:00",
          "2024-05-29T00:00:00",
          "2024-05-30T00:00:00",
          "2024-05-31T00:00:00",
          "2024-06-03T00:00:00",
          "2024-06-04T00:00:00",
          "2024-06-05T00:00:00",
          "2024-06-06T00:00:00",
          "2024-06-07T00:00:00",
          "2024-06-10T00:00:00",
          "2024-06-11T00:00:00",
          "2024-06-12T00:00:00",
          "2024-06-13T00:00:00",
          "2024-06-14T00:00:00",
          "2024-06-18T00:00:00",
          "2024-06-19T00:00:00",
          "2024-06-20T00:00:00",
          "2024-06-21T00:00:00",
          "2024-06-24T00:00:00",
          "2024-06-25T00:00:00",
          "2024-06-26T00:00:00",
          "2024-06-27T00:00:00",
          "2024-06-28T00:00:00",
          "2024-07-01T00:00:00",
          "2024-07-02T00:00:00",
          "2024-07-03T00:00:00",
          "2024-07-04T00:00:00",
          "2024-07-05T00:00:00",
          "2024-07-08T00:00:00",
          "2024-07-09T00:00:00",
          "2024-07-10T00:00:00",
          "2024-07-11T00:00:00",
          "2024-07-12T00:00:00",
          "2024-07-15T00:00:00",
          "2024-07-16T00:00:00",
          "2024-07-18T00:00:00",
          "2024-07-19T00:00:00",
          "2024-07-22T00:00:00",
          "2024-07-23T00:00:00",
          "2024-07-24T00:00:00",
          "2024-07-25T00:00:00",
          "2024-07-26T00:00:00",
          "2024-07-29T00:00:00",
          "2024-07-30T00:00:00",
          "2024-07-31T00:00:00",
          "2024-08-01T00:00:00",
          "2024-08-02T00:00:00",
          "2024-08-05T00:00:00",
          "2024-08-06T00:00:00",
          "2024-08-07T00:00:00",
          "2024-08-08T00:00:00",
          "2024-08-09T00:00:00",
          "2024-08-12T00:00:00",
          "2024-08-13T00:00:00",
          "2024-08-14T00:00:00",
          "2024-08-16T00:00:00",
          "2024-08-19T00:00:00",
          "2024-08-20T00:00:00",
          "2024-08-21T00:00:00",
          "2024-08-22T00:00:00",
          "2024-08-23T00:00:00",
          "2024-08-26T00:00:00",
          "2024-08-27T00:00:00",
          "2024-08-28T00:00:00",
          "2024-08-29T00:00:00",
          "2024-08-30T00:00:00",
          "2024-09-02T00:00:00",
          "2024-09-03T00:00:00",
          "2024-09-04T00:00:00",
          "2024-09-05T00:00:00",
          "2024-09-06T00:00:00",
          "2024-09-09T00:00:00",
          "2024-09-10T00:00:00",
          "2024-09-11T00:00:00",
          "2024-09-12T00:00:00",
          "2024-09-13T00:00:00",
          "2024-09-16T00:00:00",
          "2024-09-17T00:00:00",
          "2024-09-18T00:00:00",
          "2024-09-19T00:00:00",
          "2024-09-20T00:00:00",
          "2024-09-23T00:00:00",
          "2024-09-24T00:00:00",
          "2024-09-25T00:00:00",
          "2024-09-26T00:00:00",
          "2024-09-27T00:00:00"
         ]
        },
        {
         "mode": "lines",
         "name": "5-Day SMA",
         "type": "scatter",
         "x": [
          "2024-01-01T00:00:00",
          "2024-01-02T00:00:00",
          "2024-01-03T00:00:00",
          "2024-01-04T00:00:00",
          "2024-01-05T00:00:00",
          "2024-01-08T00:00:00",
          "2024-01-09T00:00:00",
          "2024-01-10T00:00:00",
          "2024-01-11T00:00:00",
          "2024-01-12T00:00:00",
          "2024-01-15T00:00:00",
          "2024-01-16T00:00:00",
          "2024-01-17T00:00:00",
          "2024-01-18T00:00:00",
          "2024-01-19T00:00:00",
          "2024-01-23T00:00:00",
          "2024-01-24T00:00:00",
          "2024-01-25T00:00:00",
          "2024-01-29T00:00:00",
          "2024-01-30T00:00:00",
          "2024-01-31T00:00:00",
          "2024-02-01T00:00:00",
          "2024-02-02T00:00:00",
          "2024-02-05T00:00:00",
          "2024-02-06T00:00:00",
          "2024-02-07T00:00:00",
          "2024-02-08T00:00:00",
          "2024-02-09T00:00:00",
          "2024-02-12T00:00:00",
          "2024-02-13T00:00:00",
          "2024-02-14T00:00:00",
          "2024-02-15T00:00:00",
          "2024-02-16T00:00:00",
          "2024-02-19T00:00:00",
          "2024-02-20T00:00:00",
          "2024-02-21T00:00:00",
          "2024-02-22T00:00:00",
          "2024-02-23T00:00:00",
          "2024-02-26T00:00:00",
          "2024-02-27T00:00:00",
          "2024-02-28T00:00:00",
          "2024-02-29T00:00:00",
          "2024-03-01T00:00:00",
          "2024-03-04T00:00:00",
          "2024-03-05T00:00:00",
          "2024-03-06T00:00:00",
          "2024-03-07T00:00:00",
          "2024-03-11T00:00:00",
          "2024-03-12T00:00:00",
          "2024-03-13T00:00:00",
          "2024-03-14T00:00:00",
          "2024-03-15T00:00:00",
          "2024-03-18T00:00:00",
          "2024-03-19T00:00:00",
          "2024-03-20T00:00:00",
          "2024-03-21T00:00:00",
          "2024-03-22T00:00:00",
          "2024-03-26T00:00:00",
          "2024-03-27T00:00:00",
          "2024-03-28T00:00:00",
          "2024-04-01T00:00:00",
          "2024-04-02T00:00:00",
          "2024-04-03T00:00:00",
          "2024-04-04T00:00:00",
          "2024-04-05T00:00:00",
          "2024-04-08T00:00:00",
          "2024-04-09T00:00:00",
          "2024-04-10T00:00:00",
          "2024-04-12T00:00:00",
          "2024-04-15T00:00:00",
          "2024-04-16T00:00:00",
          "2024-04-18T00:00:00",
          "2024-04-19T00:00:00",
          "2024-04-22T00:00:00",
          "2024-04-23T00:00:00",
          "2024-04-24T00:00:00",
          "2024-04-25T00:00:00",
          "2024-04-26T00:00:00",
          "2024-04-29T00:00:00",
          "2024-04-30T00:00:00",
          "2024-05-02T00:00:00",
          "2024-05-03T00:00:00",
          "2024-05-06T00:00:00",
          "2024-05-07T00:00:00",
          "2024-05-08T00:00:00",
          "2024-05-09T00:00:00",
          "2024-05-10T00:00:00",
          "2024-05-13T00:00:00",
          "2024-05-14T00:00:00",
          "2024-05-15T00:00:00",
          "2024-05-16T00:00:00",
          "2024-05-17T00:00:00",
          "2024-05-21T00:00:00",
          "2024-05-22T00:00:00",
          "2024-05-23T00:00:00",
          "2024-05-24T00:00:00",
          "2024-05-27T00:00:00",
          "2024-05-28T00:00:00",
          "2024-05-29T00:00:00",
          "2024-05-30T00:00:00",
          "2024-05-31T00:00:00",
          "2024-06-03T00:00:00",
          "2024-06-04T00:00:00",
          "2024-06-05T00:00:00",
          "2024-06-06T00:00:00",
          "2024-06-07T00:00:00",
          "2024-06-10T00:00:00",
          "2024-06-11T00:00:00",
          "2024-06-12T00:00:00",
          "2024-06-13T00:00:00",
          "2024-06-14T00:00:00",
          "2024-06-18T00:00:00",
          "2024-06-19T00:00:00",
          "2024-06-20T00:00:00",
          "2024-06-21T00:00:00",
          "2024-06-24T00:00:00",
          "2024-06-25T00:00:00",
          "2024-06-26T00:00:00",
          "2024-06-27T00:00:00",
          "2024-06-28T00:00:00",
          "2024-07-01T00:00:00",
          "2024-07-02T00:00:00",
          "2024-07-03T00:00:00",
          "2024-07-04T00:00:00",
          "2024-07-05T00:00:00",
          "2024-07-08T00:00:00",
          "2024-07-09T00:00:00",
          "2024-07-10T00:00:00",
          "2024-07-11T00:00:00",
          "2024-07-12T00:00:00",
          "2024-07-15T00:00:00",
          "2024-07-16T00:00:00",
          "2024-07-18T00:00:00",
          "2024-07-19T00:00:00",
          "2024-07-22T00:00:00",
          "2024-07-23T00:00:00",
          "2024-07-24T00:00:00",
          "2024-07-25T00:00:00",
          "2024-07-26T00:00:00",
          "2024-07-29T00:00:00",
          "2024-07-30T00:00:00",
          "2024-07-31T00:00:00",
          "2024-08-01T00:00:00",
          "2024-08-02T00:00:00",
          "2024-08-05T00:00:00",
          "2024-08-06T00:00:00",
          "2024-08-07T00:00:00",
          "2024-08-08T00:00:00",
          "2024-08-09T00:00:00",
          "2024-08-12T00:00:00",
          "2024-08-13T00:00:00",
          "2024-08-14T00:00:00",
          "2024-08-16T00:00:00",
          "2024-08-19T00:00:00",
          "2024-08-20T00:00:00",
          "2024-08-21T00:00:00",
          "2024-08-22T00:00:00",
          "2024-08-23T00:00:00",
          "2024-08-26T00:00:00",
          "2024-08-27T00:00:00",
          "2024-08-28T00:00:00",
          "2024-08-29T00:00:00",
          "2024-08-30T00:00:00",
          "2024-09-02T00:00:00",
          "2024-09-03T00:00:00",
          "2024-09-04T00:00:00",
          "2024-09-05T00:00:00",
          "2024-09-06T00:00:00",
          "2024-09-09T00:00:00",
          "2024-09-10T00:00:00",
          "2024-09-11T00:00:00",
          "2024-09-12T00:00:00",
          "2024-09-13T00:00:00",
          "2024-09-16T00:00:00",
          "2024-09-17T00:00:00",
          "2024-09-18T00:00:00",
          "2024-09-19T00:00:00",
          "2024-09-20T00:00:00",
          "2024-09-23T00:00:00",
          "2024-09-24T00:00:00",
          "2024-09-25T00:00:00",
          "2024-09-26T00:00:00",
          "2024-09-27T00:00:00"
         ],
         "y": [
          null,
          null,
          null,
          null,
          171.2500030517578,
          173.12000122070313,
          174.02999877929688,
          174.61000061035156,
          175.9,
          176.75,
          177.5,
          178.29000244140624,
          178.6500030517578,
          177.56000366210938,
          176.6300018310547,
          173.5000030517578,
          170.84000244140626,
          168.97000122070312,
          167.61000061035156,
          166.36000061035156,
          167.8800018310547,
          168.09000244140626,
          171.01000366210937,
          172.99000244140626,
          175.3300018310547,
          178.6300018310547,
          182.65,
          184.15999755859374,
          184.5999969482422,
          184.5799987792969,
          183.55999755859375,
          182.42999877929688,
          182.06000061035155,
          182.89000244140624,
          183.6700012207031,
          183.69000244140625,
          184.3300018310547,
          184.59000244140626,
          185.5500030517578,
          186.3300048828125,
          186.16000366210938,
          185.99000244140626,
          185.94000244140625,
          186.26000061035157,
          187.08999938964843,
          186.92999877929688,
          186.62000122070313,
          185.1700012207031,
          183.72000122070312,
          179.6,
          178.02000122070314,
          176.36000061035156,
          174.96999816894532,
          172.22999877929686,
          171.76000061035157,
          171.83999938964843,
          172.08999938964843,
          172.93000183105468,
          174.04000244140624,
          175.31000061035155,
          176.99000244140626,
          182.19000244140625,
          187.61000061035156,
          193.61000061035156,
          199.49000244140626,
          203.75,
          204.12999877929687,
          203.8699981689453,
          203.2699981689453,
          203.4199981689453,
          203.48999938964843,
          203.28999938964844,
          202.88999938964844,
          202.9199981689453,
          205.17999877929688,
          207.73999938964843,
          213.31000061035155,
          219.39000244140624,
          226.9800018310547,
          229.88999938964844,
          233.10999755859376,
          233.3699981689453,
          232.52999877929688,
          228.35,
          225.64000244140624,
          221.04000244140624,
          218.06000061035155,
          217.11000061035156,
          217.22000122070312,
          217.73999938964843,
          220.18999938964845,
          222.0799987792969,
          222.64999694824218,
          223.25999755859374,
          224.37999877929687,
          225.76000061035157,
          226.0000030517578,
          226.4000030517578,
          226.9000030517578,
          225.95000305175782,
          225.01000366210937,
          225.5500030517578,
          221.3300048828125,
          219.27000427246094,
          220.72000427246093,
          222.3300018310547,
          223.00599975585936,
          228.60799865722657,
          232.3419982910156,
          234.447998046875,
          236.06000061035155,
          236.68600158691407,
          237.48400268554687,
          239.24400329589844,
          239.68800354003906,
          239.56600341796874,
          239.85800476074218,
          239.75800476074218,
          238.22400512695313,
          237.706005859375,
          237.87600402832032,
          237.6840026855469,
          237.6760009765625,
          238.08200073242188,
          237.54199829101563,
          235.68799743652343,
          234.4019989013672,
          232.81799926757813,
          230.60999755859376,
          228.35799865722657,
          227.46400146484376,
          226.52200012207032,
          225.13999938964844,
          223,
          221.55799865722656,
          219.30599670410157,
          217.3239959716797,
          216.30799560546876,
          217.86599426269532,
          219.1219970703125,
          220.68199768066407,
          222.95599975585938,
          223.44400024414062,
          221.0760009765625,
          217.52200012207032,
          213.75599975585936,
          210.68399963378906,
          208.78399963378905,
          208.8260009765625,
          210.13399963378907,
          210.83800048828124,
          209.22799987792968,
          210.3279998779297,
          210.56799926757813,
          211.6720001220703,
          214.5760009765625,
          218.53600158691407,
          219.13400268554688,
          220.89800415039062,
          221.8300048828125,
          221.78600463867187,
          221.35800476074218,
          221.56400451660156,
          222.59200439453124,
          223.01200256347656,
          222.96200256347657,
          223.46600036621095,
          222.8,
          220.75799865722655,
          219.26799926757812,
          217.69199829101564,
          217.06000061035155,
          218.92400207519532,
          220.86000061035156,
          222.41000061035157,
          225.06799926757813,
          226.87799682617188,
          227.3159942626953,
          228.75999450683594,
          230.28399353027345,
          231.5019958496094,
          232.8419982910156,
          234.44400024414062
         ]
        },
        {
         "mode": "lines",
         "name": "20-Day SMA",
         "type": "scatter",
         "x": [
          "2024-01-01T00:00:00",
          "2024-01-02T00:00:00",
          "2024-01-03T00:00:00",
          "2024-01-04T00:00:00",
          "2024-01-05T00:00:00",
          "2024-01-08T00:00:00",
          "2024-01-09T00:00:00",
          "2024-01-10T00:00:00",
          "2024-01-11T00:00:00",
          "2024-01-12T00:00:00",
          "2024-01-15T00:00:00",
          "2024-01-16T00:00:00",
          "2024-01-17T00:00:00",
          "2024-01-18T00:00:00",
          "2024-01-19T00:00:00",
          "2024-01-23T00:00:00",
          "2024-01-24T00:00:00",
          "2024-01-25T00:00:00",
          "2024-01-29T00:00:00",
          "2024-01-30T00:00:00",
          "2024-01-31T00:00:00",
          "2024-02-01T00:00:00",
          "2024-02-02T00:00:00",
          "2024-02-05T00:00:00",
          "2024-02-06T00:00:00",
          "2024-02-07T00:00:00",
          "2024-02-08T00:00:00",
          "2024-02-09T00:00:00",
          "2024-02-12T00:00:00",
          "2024-02-13T00:00:00",
          "2024-02-14T00:00:00",
          "2024-02-15T00:00:00",
          "2024-02-16T00:00:00",
          "2024-02-19T00:00:00",
          "2024-02-20T00:00:00",
          "2024-02-21T00:00:00",
          "2024-02-22T00:00:00",
          "2024-02-23T00:00:00",
          "2024-02-26T00:00:00",
          "2024-02-27T00:00:00",
          "2024-02-28T00:00:00",
          "2024-02-29T00:00:00",
          "2024-03-01T00:00:00",
          "2024-03-04T00:00:00",
          "2024-03-05T00:00:00",
          "2024-03-06T00:00:00",
          "2024-03-07T00:00:00",
          "2024-03-11T00:00:00",
          "2024-03-12T00:00:00",
          "2024-03-13T00:00:00",
          "2024-03-14T00:00:00",
          "2024-03-15T00:00:00",
          "2024-03-18T00:00:00",
          "2024-03-19T00:00:00",
          "2024-03-20T00:00:00",
          "2024-03-21T00:00:00",
          "2024-03-22T00:00:00",
          "2024-03-26T00:00:00",
          "2024-03-27T00:00:00",
          "2024-03-28T00:00:00",
          "2024-04-01T00:00:00",
          "2024-04-02T00:00:00",
          "2024-04-03T00:00:00",
          "2024-04-04T00:00:00",
          "2024-04-05T00:00:00",
          "2024-04-08T00:00:00",
          "2024-04-09T00:00:00",
          "2024-04-10T00:00:00",
          "2024-04-12T00:00:00",
          "2024-04-15T00:00:00",
          "2024-04-16T00:00:00",
          "2024-04-18T00:00:00",
          "2024-04-19T00:00:00",
          "2024-04-22T00:00:00",
          "2024-04-23T00:00:00",
          "2024-04-24T00:00:00",
          "2024-04-25T00:00:00",
          "2024-04-26T00:00:00",
          "2024-04-29T00:00:00",
          "2024-04-30T00:00:00",
          "2024-05-02T00:00:00",
          "2024-05-03T00:00:00",
          "2024-05-06T00:00:00",
          "2024-05-07T00:00:00",
          "2024-05-08T00:00:00",
          "2024-05-09T00:00:00",
          "2024-05-10T00:00:00",
          "2024-05-13T00:00:00",
          "2024-05-14T00:00:00",
          "2024-05-15T00:00:00",
          "2024-05-16T00:00:00",
          "2024-05-17T00:00:00",
          "2024-05-21T00:00:00",
          "2024-05-22T00:00:00",
          "2024-05-23T00:00:00",
          "2024-05-24T00:00:00",
          "2024-05-27T00:00:00",
          "2024-05-28T00:00:00",
          "2024-05-29T00:00:00",
          "2024-05-30T00:00:00",
          "2024-05-31T00:00:00",
          "2024-06-03T00:00:00",
          "2024-06-04T00:00:00",
          "2024-06-05T00:00:00",
          "2024-06-06T00:00:00",
          "2024-06-07T00:00:00",
          "2024-06-10T00:00:00",
          "2024-06-11T00:00:00",
          "2024-06-12T00:00:00",
          "2024-06-13T00:00:00",
          "2024-06-14T00:00:00",
          "2024-06-18T00:00:00",
          "2024-06-19T00:00:00",
          "2024-06-20T00:00:00",
          "2024-06-21T00:00:00",
          "2024-06-24T00:00:00",
          "2024-06-25T00:00:00",
          "2024-06-26T00:00:00",
          "2024-06-27T00:00:00",
          "2024-06-28T00:00:00",
          "2024-07-01T00:00:00",
          "2024-07-02T00:00:00",
          "2024-07-03T00:00:00",
          "2024-07-04T00:00:00",
          "2024-07-05T00:00:00",
          "2024-07-08T00:00:00",
          "2024-07-09T00:00:00",
          "2024-07-10T00:00:00",
          "2024-07-11T00:00:00",
          "2024-07-12T00:00:00",
          "2024-07-15T00:00:00",
          "2024-07-16T00:00:00",
          "2024-07-18T00:00:00",
          "2024-07-19T00:00:00",
          "2024-07-22T00:00:00",
          "2024-07-23T00:00:00",
          "2024-07-24T00:00:00",
          "2024-07-25T00:00:00",
          "2024-07-26T00:00:00",
          "2024-07-29T00:00:00",
          "2024-07-30T00:00:00",
          "2024-07-31T00:00:00",
          "2024-08-01T00:00:00",
          "2024-08-02T00:00:00",
          "2024-08-05T00:00:00",
          "2024-08-06T00:00:00",
          "2024-08-07T00:00:00",
          "2024-08-08T00:00:00",
          "2024-08-09T00:00:00",
          "2024-08-12T00:00:00",
          "2024-08-13T00:00:00",
          "2024-08-14T00:00:00",
          "2024-08-16T00:00:00",
          "2024-08-19T00:00:00",
          "2024-08-20T00:00:00",
          "2024-08-21T00:00:00",
          "2024-08-22T00:00:00",
          "2024-08-23T00:00:00",
          "2024-08-26T00:00:00",
          "2024-08-27T00:00:00",
          "2024-08-28T00:00:00",
          "2024-08-29T00:00:00",
          "2024-08-30T00:00:00",
          "2024-09-02T00:00:00",
          "2024-09-03T00:00:00",
          "2024-09-04T00:00:00",
          "2024-09-05T00:00:00",
          "2024-09-06T00:00:00",
          "2024-09-09T00:00:00",
          "2024-09-10T00:00:00",
          "2024-09-11T00:00:00",
          "2024-09-12T00:00:00",
          "2024-09-13T00:00:00",
          "2024-09-16T00:00:00",
          "2024-09-17T00:00:00",
          "2024-09-18T00:00:00",
          "2024-09-19T00:00:00",
          "2024-09-20T00:00:00",
          "2024-09-23T00:00:00",
          "2024-09-24T00:00:00",
          "2024-09-25T00:00:00",
          "2024-09-26T00:00:00",
          "2024-09-27T00:00:00"
         ],
         "y": [
          null,
          null,
          null,
          null,
          null,
          null,
          null,
          null,
          null,
          null,
          null,
          null,
          null,
          null,
          null,
          null,
          null,
          null,
          null,
          172.74750137329102,
          173.0000015258789,
          172.8125015258789,
          173.31000213623048,
          173.5150016784668,
          173.76750106811522,
          174.37750167846679,
          174.96750183105468,
          175.697501373291,
          175.69000091552735,
          175.72500076293946,
          175.89250106811522,
          176.00250091552735,
          176.55000076293945,
          177.02250061035156,
          177.48500061035156,
          178.44000091552735,
          179.37500076293946,
          180.45500106811522,
          181.50750122070312,
          182.4775016784668,
          183.010001373291,
          183.85000076293946,
          184.18750076293946,
          184.82500076293945,
          185.41750106811523,
          185.08500061035156,
          184.84250106811524,
          184.44000167846679,
          184.6050018310547,
          184.17250137329103,
          183.70000152587892,
          183.32500152587892,
          182.66750106811523,
          181.94000091552735,
          181.19500122070312,
          180.73750076293945,
          180.26500091552734,
          179.75250091552735,
          179.06250076293946,
          178.44000015258788,
          178.44500045776368,
          179.31500091552735,
          180.17000045776368,
          180.90000076293944,
          181.54000091552734,
          182.65000076293944,
          183.69250030517577,
          184.84499969482422,
          185.7875,
          187.49500045776367,
          189.0175003051758,
          190.425,
          191.825,
          193.45999984741212,
          195.85,
          197.99250030517578,
          200.7300003051758,
          203.44000015258788,
          206.69499969482422,
          209.49499969482423,
          212.02249908447266,
          213.52499923706054,
          214.6699996948242,
          215.37999954223633,
          216.03249969482422,
          216.34499969482422,
          217.00749969482422,
          217.9800003051758,
          218.86750030517578,
          219.6125,
          220.5199996948242,
          221.70499954223632,
          222.9199996948242,
          223.9525001525879,
          224.4125,
          225.025,
          224.87750015258788,
          224.6724998474121,
          223.93250045776367,
          223.42750091552733,
          223.0000015258789,
          222.92250137329103,
          221.87250137329102,
          221.6625015258789,
          222.197501373291,
          223.322501373291,
          224.15900115966798,
          224.74700088500975,
          225.44300079345703,
          226.37450103759767,
          227.2900016784668,
          227.81050186157228,
          228.45550231933595,
          229.4390022277832,
          230.2015022277832,
          230.7415023803711,
          231.27500228881837,
          231.79500274658204,
          232.27000274658204,
          233.1405029296875,
          233.95800247192383,
          234.30850219726562,
          235.88150177001953,
          236.97300186157227,
          237.34600143432618,
          237.29750137329103,
          237.1575019836426,
          236.93400192260742,
          236.5400016784668,
          235.82350158691406,
          235.14850158691405,
          234.61650161743165,
          233.8480010986328,
          232.4790008544922,
          231.29100036621094,
          230.08349990844727,
          228.982999420166,
          227.98549880981446,
          227.38949813842774,
          226.6449981689453,
          225.7849983215332,
          225.30099868774414,
          224.427498626709,
          223.13799819946288,
          221.63999862670897,
          220.3019989013672,
          219.37149887084962,
          218.41899871826172,
          217.69199905395507,
          217.0839988708496,
          216.14549865722657,
          215.04799880981446,
          214.71599884033202,
          214.5839988708496,
          214.61249923706055,
          214.9629997253418,
          215.35100021362305,
          215.42250061035156,
          215.34200134277344,
          215.28950119018555,
          215.23900146484374,
          214.95150146484374,
          214.9525016784668,
          215.72100219726562,
          216.6620018005371,
          217.54050216674804,
          218.14700164794922,
          218.45650177001954,
          218.70400161743163,
          218.94550170898438,
          219.25400161743164,
          220.1050018310547,
          220.60550231933593,
          221.277001953125,
          221.6300018310547,
          221.87700119018555,
          222.19050064086915,
          222.65100021362304,
          223.24249954223632,
          223.7434989929199,
          224.3059989929199,
          225.0614990234375,
          225.87099914550782
         ]
        },
        {
         "mode": "lines",
         "name": "5-Day WMA",
         "type": "scatter",
         "x": [
          "2024-01-01T00:00:00",
          "2024-01-02T00:00:00",
          "2024-01-03T00:00:00",
          "2024-01-04T00:00:00",
          "2024-01-05T00:00:00",
          "2024-01-08T00:00:00",
          "2024-01-09T00:00:00",
          "2024-01-10T00:00:00",
          "2024-01-11T00:00:00",
          "2024-01-12T00:00:00",
          "2024-01-15T00:00:00",
          "2024-01-16T00:00:00",
          "2024-01-17T00:00:00",
          "2024-01-18T00:00:00",
          "2024-01-19T00:00:00",
          "2024-01-23T00:00:00",
          "2024-01-24T00:00:00",
          "2024-01-25T00:00:00",
          "2024-01-29T00:00:00",
          "2024-01-30T00:00:00",
          "2024-01-31T00:00:00",
          "2024-02-01T00:00:00",
          "2024-02-02T00:00:00",
          "2024-02-05T00:00:00",
          "2024-02-06T00:00:00",
          "2024-02-07T00:00:00",
          "2024-02-08T00:00:00",
          "2024-02-09T00:00:00",
          "2024-02-12T00:00:00",
          "2024-02-13T00:00:00",
          "2024-02-14T00:00:00",
          "2024-02-15T00:00:00",
          "2024-02-16T00:00:00",
          "2024-02-19T00:00:00",
          "2024-02-20T00:00:00",
          "2024-02-21T00:00:00",
          "2024-02-22T00:00:00",
          "2024-02-23T00:00:00",
          "2024-02-26T00:00:00",
          "2024-02-27T00:00:00",
          "2024-02-28T00:00:00",
          "2024-02-29T00:00:00",
          "2024-03-01T00:00:00",
          "2024-03-04T00:00:00",
          "2024-03-05T00:00:00",
          "2024-03-06T00:00:00",
          "2024-03-07T00:00:00",
          "2024-03-11T00:00:00",
          "2024-03-12T00:00:00",
          "2024-03-13T00:00:00",
          "2024-03-14T00:00:00",
          "2024-03-15T00:00:00",
          "2024-03-18T00:00:00",
          "2024-03-19T00:00:00",
          "2024-03-20T00:00:00",
          "2024-03-21T00:00:00",
          "2024-03-22T00:00:00",
          "2024-03-26T00:00:00",
          "2024-03-27T00:00:00",
          "2024-03-28T00:00:00",
          "2024-04-01T00:00:00",
          "2024-04-02T00:00:00",
          "2024-04-03T00:00:00",
          "2024-04-04T00:00:00",
          "2024-04-05T00:00:00",
          "2024-04-08T00:00:00",
          "2024-04-09T00:00:00",
          "2024-04-10T00:00:00",
          "2024-04-12T00:00:00",
          "2024-04-15T00:00:00",
          "2024-04-16T00:00:00",
          "2024-04-18T00:00:00",
          "2024-04-19T00:00:00",
          "2024-04-22T00:00:00",
          "2024-04-23T00:00:00",
          "2024-04-24T00:00:00",
          "2024-04-25T00:00:00",
          "2024-04-26T00:00:00",
          "2024-04-29T00:00:00",
          "2024-04-30T00:00:00",
          "2024-05-02T00:00:00",
          "2024-05-03T00:00:00",
          "2024-05-06T00:00:00",
          "2024-05-07T00:00:00",
          "2024-05-08T00:00:00",
          "2024-05-09T00:00:00",
          "2024-05-10T00:00:00",
          "2024-05-13T00:00:00",
          "2024-05-14T00:00:00",
          "2024-05-15T00:00:00",
          "2024-05-16T00:00:00",
          "2024-05-17T00:00:00",
          "2024-05-21T00:00:00",
          "2024-05-22T00:00:00",
          "2024-05-23T00:00:00",
          "2024-05-24T00:00:00",
          "2024-05-27T00:00:00",
          "2024-05-28T00:00:00",
          "2024-05-29T00:00:00",
          "2024-05-30T00:00:00",
          "2024-05-31T00:00:00",
          "2024-06-03T00:00:00",
          "2024-06-04T00:00:00",
          "2024-06-05T00:00:00",
          "2024-06-06T00:00:00",
          "2024-06-07T00:00:00",
          "2024-06-10T00:00:00",
          "2024-06-11T00:00:00",
          "2024-06-12T00:00:00",
          "2024-06-13T00:00:00",
          "2024-06-14T00:00:00",
          "2024-06-18T00:00:00",
          "2024-06-19T00:00:00",
          "2024-06-20T00:00:00",
          "2024-06-21T00:00:00",
          "2024-06-24T00:00:00",
          "2024-06-25T00:00:00",
          "2024-06-26T00:00:00",
          "2024-06-27T00:00:00",
          "2024-06-28T00:00:00",
          "2024-07-01T00:00:00",
          "2024-07-02T00:00:00",
          "2024-07-03T00:00:00",
          "2024-07-04T00:00:00",
          "2024-07-05T00:00:00",
          "2024-07-08T00:00:00",
          "2024-07-09T00:00:00",
          "2024-07-10T00:00:00",
          "2024-07-11T00:00:00",
          "2024-07-12T00:00:00",
          "2024-07-15T00:00:00",
          "2024-07-16T00:00:00",
          "2024-07-18T00:00:00",
          "2024-07-19T00:00:00",
          "2024-07-22T00:00:00",
          "2024-07-23T00:00:00",
          "2024-07-24T00:00:00",
          "2024-07-25T00:00:00",
          "2024-07-26T00:00:00",
          "2024-07-29T00:00:00",
          "2024-07-30T00:00:00",
          "2024-07-31T00:00:00",
          "2024-08-01T00:00:00",
          "2024-08-02T00:00:00",
          "2024-08-05T00:00:00",
          "2024-08-06T00:00:00",
          "2024-08-07T00:00:00",
          "2024-08-08T00:00:00",
          "2024-08-09T00:00:00",
          "2024-08-12T00:00:00",
          "2024-08-13T00:00:00",
          "2024-08-14T00:00:00",
          "2024-08-16T00:00:00",
          "2024-08-19T00:00:00",
          "2024-08-20T00:00:00",
          "2024-08-21T00:00:00",
          "2024-08-22T00:00:00",
          "2024-08-23T00:00:00",
          "2024-08-26T00:00:00",
          "2024-08-27T00:00:00",
          "2024-08-28T00:00:00",
          "2024-08-29T00:00:00",
          "2024-08-30T00:00:00",
          "2024-09-02T00:00:00",
          "2024-09-03T00:00:00",
          "2024-09-04T00:00:00",
          "2024-09-05T00:00:00",
          "2024-09-06T00:00:00",
          "2024-09-09T00:00:00",
          "2024-09-10T00:00:00",
          "2024-09-11T00:00:00",
          "2024-09-12T00:00:00",
          "2024-09-13T00:00:00",
          "2024-09-16T00:00:00",
          "2024-09-17T00:00:00",
          "2024-09-18T00:00:00",
          "2024-09-19T00:00:00",
          "2024-09-20T00:00:00",
          "2024-09-23T00:00:00",
          "2024-09-24T00:00:00",
          "2024-09-25T00:00:00",
          "2024-09-26T00:00:00",
          "2024-09-27T00:00:00"
         ],
         "y": [
          null,
          null,
          null,
          null,
          172.69000345865885,
          174.07333374023438,
          174.7499979654948,
          174.5066660563151,
          176.48666687011718,
          177.63666890462238,
          178.4366668701172,
          178.97000223795573,
          177.90667012532552,
          176.72333780924478,
          175.77000223795574,
          171.3933349609375,
          168.82666829427083,
          167.13000081380207,
          166.90666809082032,
          167.1866668701172,
          168.76666870117188,
          168.4233367919922,
          172.51000467936197,
          174.90666910807292,
          177.2933329264323,
          181.38333435058593,
          184.15666605631512,
          185.9066640218099,
          184.65332946777343,
          183.13666483561198,
          182.44333190917968,
          181.69000040690105,
          182.89666849772135,
          183.72666931152344,
          184.0800008138021,
          183.72333577473958,
          183.9933349609375,
          185.0000030517578,
          186.5866709391276,
          187.35333862304688,
          185.82667032877603,
          184.99000040690103,
          185.36000162760416,
          187.02999979654948,
          188.9433329264323,
          186.89666544596355,
          185.2866678873698,
          183.0300028483073,
          182.54000142415364,
          178.43333231608074,
          176.25,
          174.84333394368488,
          173.68999837239582,
          172.03333231608073,
          170.97333374023438,
          171.5366658528646,
          172.6066670735677,
          174.27666931152345,
          175.1500030517578,
          175.60333353678385,
          177.78333536783853,
          185.80333557128907,
          193.14000040690104,
          199.12000122070313,
          202.8500020345052,
          204.06999918619792,
          203.80333150227864,
          203.3933298746745,
          202.95333150227864,
          203.7133331298828,
          203.74000040690103,
          203.22666625976564,
          202.42999776204428,
          202.36666361490884,
          207.00999959309897,
          210.71666768391927,
          218.07000223795572,
          224.0666697184245,
          231.15333353678386,
          232.6266642252604,
          233.46332906087238,
          232.7933319091797,
          230.70333455403645,
          226.4433349609375,
          222.9433369954427,
          217.53000081380208,
          215.91666564941406,
          217.34666748046874,
          218.41000162760417,
          219.48666687011718,
          220.78999837239584,
          222.60999654134113,
          223.64999593098958,
          223.88333231608073,
          224.8133341471354,
          226.20333557128907,
          226.5666707356771,
          226.96666870117187,
          226.78333638509113,
          224.9166697184245,
          224.21667073567707,
          225.7300038655599,
          219.24667154947917,
          217.32000427246095,
          220.41333719889323,
          224.14000040690104,
          227.67333068847657,
          231.37466430664062,
          233.24533182779948,
          235.4913330078125,
          237.32866923014322,
          237.32866821289062,
          237.8000030517578,
          239.6453369140625,
          240.33067016601564,
          240.21800435384114,
          239.53600463867187,
          238.78333841959636,
          237.31400553385416,
          237.47600606282552,
          238.30733642578124,
          237.86866760253906,
          237.82733256022135,
          237.72866719563802,
          237.03799845377605,
          234.83399658203126,
          232.98133239746093,
          231.393999226888,
          229.2346649169922,
          227.28133239746094,
          226.64866841634114,
          225.967333984375,
          224.70333251953124,
          221.5366658528646,
          219.71666361490887,
          217.59732971191406,
          216.33199564615884,
          216.44066162109374,
          218.81466064453124,
          220.79933166503906,
          222.09199930826824,
          224.1580017089844,
          223.20266723632812,
          219.25133260091147,
          214.24266662597657,
          209.79199930826823,
          209.04666748046876,
          209.0153330485026,
          210.02066752115886,
          211.27533264160155,
          210.4606669108073,
          208.00466715494792,
          210.29199930826823,
          211.182666015625,
          213.69666646321613,
          217.20933532714844,
          220.10733642578126,
          220.2886698404948,
          221.1840047200521,
          221.8080047607422,
          221.86133829752603,
          221.64267171223958,
          221.22667032877604,
          223.02533772786458,
          223.78466796875,
          223.3606689453125,
          223.58999938964843,
          221.36133219401043,
          219.34466552734375,
          218.23199869791668,
          216.42933247884113,
          217.36200154622395,
          220.37533671061198,
          222.87733357747396,
          224.31399943033855,
          225.8939971923828,
          227.38466186523436,
          227.855327351888,
          229.96666056315104,
          231.30999348958332,
          232.2953308105469,
          233.87466735839843,
          235.02733561197917
         ]
        },
        {
         "mode": "lines",
         "name": "20-Day WMA",
         "type": "scatter",
         "x": [
          "2024-01-01T00:00:00",
          "2024-01-02T00:00:00",
          "2024-01-03T00:00:00",
          "2024-01-04T00:00:00",
          "2024-01-05T00:00:00",
          "2024-01-08T00:00:00",
          "2024-01-09T00:00:00",
          "2024-01-10T00:00:00",
          "2024-01-11T00:00:00",
          "2024-01-12T00:00:00",
          "2024-01-15T00:00:00",
          "2024-01-16T00:00:00",
          "2024-01-17T00:00:00",
          "2024-01-18T00:00:00",
          "2024-01-19T00:00:00",
          "2024-01-23T00:00:00",
          "2024-01-24T00:00:00",
          "2024-01-25T00:00:00",
          "2024-01-29T00:00:00",
          "2024-01-30T00:00:00",
          "2024-01-31T00:00:00",
          "2024-02-01T00:00:00",
          "2024-02-02T00:00:00",
          "2024-02-05T00:00:00",
          "2024-02-06T00:00:00",
          "2024-02-07T00:00:00",
          "2024-02-08T00:00:00",
          "2024-02-09T00:00:00",
          "2024-02-12T00:00:00",
          "2024-02-13T00:00:00",
          "2024-02-14T00:00:00",
          "2024-02-15T00:00:00",
          "2024-02-16T00:00:00",
          "2024-02-19T00:00:00",
          "2024-02-20T00:00:00",
          "2024-02-21T00:00:00",
          "2024-02-22T00:00:00",
          "2024-02-23T00:00:00",
          "2024-02-26T00:00:00",
          "2024-02-27T00:00:00",
          "2024-02-28T00:00:00",
          "2024-02-29T00:00:00",
          "2024-03-01T00:00:00",
          "2024-03-04T00:00:00",
          "2024-03-05T00:00:00",
          "2024-03-06T00:00:00",
          "2024-03-07T00:00:00",
          "2024-03-11T00:00:00",
          "2024-03-12T00:00:00",
          "2024-03-13T00:00:00",
          "2024-03-14T00:00:00",
          "2024-03-15T00:00:00",
          "2024-03-18T00:00:00",
          "2024-03-19T00:00:00",
          "2024-03-20T00:00:00",
          "2024-03-21T00:00:00",
          "2024-03-22T00:00:00",
          "2024-03-26T00:00:00",
          "2024-03-27T00:00:00",
          "2024-03-28T00:00:00",
          "2024-04-01T00:00:00",
          "2024-04-02T00:00:00",
          "2024-04-03T00:00:00",
          "2024-04-04T00:00:00",
          "2024-04-05T00:00:00",
          "2024-04-08T00:00:00",
          "2024-04-09T00:00:00",
          "2024-04-10T00:00:00",
          "2024-04-12T00:00:00",
          "2024-04-15T00:00:00",
          "2024-04-16T00:00:00",
          "2024-04-18T00:00:00",
          "2024-04-19T00:00:00",
          "2024-04-22T00:00:00",
          "2024-04-23T00:00:00",
          "2024-04-24T00:00:00",
          "2024-04-25T00:00:00",
          "2024-04-26T00:00:00",
          "2024-04-29T00:00:00",
          "2024-04-30T00:00:00",
          "2024-05-02T00:00:00",
          "2024-05-03T00:00:00",
          "2024-05-06T00:00:00",
          "2024-05-07T00:00:00",
          "2024-05-08T00:00:00",
          "2024-05-09T00:00:00",
          "2024-05-10T00:00:00",
          "2024-05-13T00:00:00",
          "2024-05-14T00:00:00",
          "2024-05-15T00:00:00",
          "2024-05-16T00:00:00",
          "2024-05-17T00:00:00",
          "2024-05-21T00:00:00",
          "2024-05-22T00:00:00",
          "2024-05-23T00:00:00",
          "2024-05-24T00:00:00",
          "2024-05-27T00:00:00",
          "2024-05-28T00:00:00",
          "2024-05-29T00:00:00",
          "2024-05-30T00:00:00",
          "2024-05-31T00:00:00",
          "2024-06-03T00:00:00",
          "2024-06-04T00:00:00",
          "2024-06-05T00:00:00",
          "2024-06-06T00:00:00",
          "2024-06-07T00:00:00",
          "2024-06-10T00:00:00",
          "2024-06-11T00:00:00",
          "2024-06-12T00:00:00",
          "2024-06-13T00:00:00",
          "2024-06-14T00:00:00",
          "2024-06-18T00:00:00",
          "2024-06-19T00:00:00",
          "2024-06-20T00:00:00",
          "2024-06-21T00:00:00",
          "2024-06-24T00:00:00",
          "2024-06-25T00:00:00",
          "2024-06-26T00:00:00",
          "2024-06-27T00:00:00",
          "2024-06-28T00:00:00",
          "2024-07-01T00:00:00",
          "2024-07-02T00:00:00",
          "2024-07-03T00:00:00",
          "2024-07-04T00:00:00",
          "2024-07-05T00:00:00",
          "2024-07-08T00:00:00",
          "2024-07-09T00:00:00",
          "2024-07-10T00:00:00",
          "2024-07-11T00:00:00",
          "2024-07-12T00:00:00",
          "2024-07-15T00:00:00",
          "2024-07-16T00:00:00",
          "2024-07-18T00:00:00",
          "2024-07-19T00:00:00",
          "2024-07-22T00:00:00",
          "2024-07-23T00:00:00",
          "2024-07-24T00:00:00",
          "2024-07-25T00:00:00",
          "2024-07-26T00:00:00",
          "2024-07-29T00:00:00",
          "2024-07-30T00:00:00",
          "2024-07-31T00:00:00",
          "2024-08-01T00:00:00",
          "2024-08-02T00:00:00",
          "2024-08-05T00:00:00",
          "2024-08-06T00:00:00",
          "2024-08-07T00:00:00",
          "2024-08-08T00:00:00",
          "2024-08-09T00:00:00",
          "2024-08-12T00:00:00",
          "2024-08-13T00:00:00",
          "2024-08-14T00:00:00",
          "2024-08-16T00:00:00",
          "2024-08-19T00:00:00",
          "2024-08-20T00:00:00",
          "2024-08-21T00:00:00",
          "2024-08-22T00:00:00",
          "2024-08-23T00:00:00",
          "2024-08-26T00:00:00",
          "2024-08-27T00:00:00",
          "2024-08-28T00:00:00",
          "2024-08-29T00:00:00",
          "2024-08-30T00:00:00",
          "2024-09-02T00:00:00",
          "2024-09-03T00:00:00",
          "2024-09-04T00:00:00",
          "2024-09-05T00:00:00",
          "2024-09-06T00:00:00",
          "2024-09-09T00:00:00",
          "2024-09-10T00:00:00",
          "2024-09-11T00:00:00",
          "2024-09-12T00:00:00",
          "2024-09-13T00:00:00",
          "2024-09-16T00:00:00",
          "2024-09-17T00:00:00",
          "2024-09-18T00:00:00",
          "2024-09-19T00:00:00",
          "2024-09-20T00:00:00",
          "2024-09-23T00:00:00",
          "2024-09-24T00:00:00",
          "2024-09-25T00:00:00",
          "2024-09-26T00:00:00",
          "2024-09-27T00:00:00"
         ],
         "y": [
          null,
          null,
          null,
          null,
          null,
          null,
          null,
          null,
          null,
          null,
          null,
          null,
          null,
          null,
          null,
          null,
          null,
          null,
          null,
          172.03095361618767,
          171.8740493047805,
          171.2883354550316,
          172.00619303385417,
          172.47190682547432,
          173.1038108462379,
          174.4211922781808,
          175.61857278006417,
          176.85023869105748,
          177.2980951218378,
          177.71333342052642,
          178.3585714431036,
          178.87357163202194,
          179.83047659737724,
          180.5923815772647,
          181.25214313325426,
          181.7392865135556,
          182.31642928350539,
          183.0759536016555,
          183.92309693836032,
          184.52714502243768,
          184.45785914829798,
          184.51881081717355,
          184.82833513532367,
          185.4723823910668,
          186.1557156517392,
          185.73023906889415,
          185.44595387776693,
          184.97047816685267,
          184.9000015258789,
          183.6423817225865,
          182.58309616815475,
          181.64023917061942,
          180.64738130115327,
          179.44095262799945,
          178.2133337838309,
          177.47571432931082,
          176.93404788062685,
          176.6326198032924,
          176.23238191150483,
          175.8835717337472,
          176.20833420526412,
          178.36119159516835,
          180.73119121733166,
          183.1483343215216,
          185.42452501569474,
          187.48261958530972,
          189.41595255533855,
          191.2452376592727,
          192.93142845517113,
          194.81357160295758,
          196.33785727364676,
          197.56952362060548,
          198.5671420869373,
          199.602856082008,
          201.83047572544643,
          203.7780950637091,
          206.80738103957404,
          209.71880987258186,
          213.262618800572,
          215.61547539120627,
          217.79690341041203,
          219.61380884079705,
          220.9066666376023,
          221.3904761904762,
          221.62571491059802,
          220.99404769170852,
          220.98023790631976,
          221.48904804048084,
          221.71000068301245,
          221.86071464901877,
          222.05476168677922,
          222.5433325631278,
          222.87618945893786,
          222.9171424502418,
          223.11690463111515,
          223.51095254080636,
          223.68476264590308,
          223.9059528169178,
          224.01809626988003,
          223.7673822312128,
          223.80762082054503,
          224.43143048967633,
          222.82928808303106,
          222.22714538574218,
          222.88309791201638,
          223.80714481898715,
          224.7221439906529,
          225.66985822405135,
          226.5720487322126,
          227.87081073579333,
          229.1646684192476,
          229.9999061221168,
          230.9798589070638,
          232.36695433117094,
          233.49657345726376,
          234.36785954066684,
          235.0134311494373,
          235.61581246512276,
          235.95438421340216,
          236.56771792457218,
          237.24005068824405,
          237.48785974411737,
          237.79752596900576,
          237.94024055117652,
          237.84852556501116,
          237.23747711181642,
          236.5548583984375,
          235.83890577043806,
          234.82995285760788,
          233.70709555489677,
          232.81533413841612,
          231.88881000337147,
          230.7567618233817,
          229.02266642252604,
          227.599903796968,
          226.06742728097097,
          224.67947438557943,
          223.60014052618118,
          223.16628279913039,
          222.82633129301524,
          222.47918861025855,
          222.58347494942802,
          222.08718901134674,
          220.86456974574497,
          219.23714163643973,
          217.57333206903365,
          216.73695162818547,
          215.90061805361793,
          215.2702375139509,
          214.7843324933733,
          213.88966616675967,
          212.68247593470983,
          212.7817137945266,
          212.6182853335426,
          212.95409502301897,
          213.67766716366722,
          214.46881045386905,
          214.82395346505302,
          215.43323981875466,
          216.1406686692011,
          216.7788119361514,
          217.33985988071987,
          217.83114551362536,
          218.97471742175875,
          219.84605008079893,
          220.32966948009673,
          220.9115258353097,
          220.78133508591424,
          220.61881110781715,
          220.49652506510418,
          220.01219162713915,
          220.1299062819708,
          220.70085906982422,
          221.25557243710472,
          221.62633398146858,
          222.1520475115095,
          222.8818562825521,
          223.46276034400577,
          224.51028355189732,
          225.41956867036365,
          226.3239978608631,
          227.4605699085054,
          228.5309036254883
         ]
        }
       ],
       "layout": {
        "hovermode": "x",
        "legend": {
         "x": 0,
         "y": 1
        },
        "template": {
         "data": {
          "bar": [
           {
            "error_x": {
             "color": "#2a3f5f"
            },
            "error_y": {
             "color": "#2a3f5f"
            },
            "marker": {
             "line": {
              "color": "#E5ECF6",
              "width": 0.5
             },
             "pattern": {
              "fillmode": "overlay",
              "size": 10,
              "solidity": 0.2
             }
            },
            "type": "bar"
           }
          ],
          "barpolar": [
           {
            "marker": {
             "line": {
              "color": "#E5ECF6",
              "width": 0.5
             },
             "pattern": {
              "fillmode": "overlay",
              "size": 10,
              "solidity": 0.2
             }
            },
            "type": "barpolar"
           }
          ],
          "carpet": [
           {
            "aaxis": {
             "endlinecolor": "#2a3f5f",
             "gridcolor": "white",
             "linecolor": "white",
             "minorgridcolor": "white",
             "startlinecolor": "#2a3f5f"
            },
            "baxis": {
             "endlinecolor": "#2a3f5f",
             "gridcolor": "white",
             "linecolor": "white",
             "minorgridcolor": "white",
             "startlinecolor": "#2a3f5f"
            },
            "type": "carpet"
           }
          ],
          "choropleth": [
           {
            "colorbar": {
             "outlinewidth": 0,
             "ticks": ""
            },
            "type": "choropleth"
           }
          ],
          "contour": [
           {
            "colorbar": {
             "outlinewidth": 0,
             "ticks": ""
            },
            "colorscale": [
             [
              0,
              "#0d0887"
             ],
             [
              0.1111111111111111,
              "#46039f"
             ],
             [
              0.2222222222222222,
              "#7201a8"
             ],
             [
              0.3333333333333333,
              "#9c179e"
             ],
             [
              0.4444444444444444,
              "#bd3786"
             ],
             [
              0.5555555555555556,
              "#d8576b"
             ],
             [
              0.6666666666666666,
              "#ed7953"
             ],
             [
              0.7777777777777778,
              "#fb9f3a"
             ],
             [
              0.8888888888888888,
              "#fdca26"
             ],
             [
              1,
              "#f0f921"
             ]
            ],
            "type": "contour"
           }
          ],
          "contourcarpet": [
           {
            "colorbar": {
             "outlinewidth": 0,
             "ticks": ""
            },
            "type": "contourcarpet"
           }
          ],
          "heatmap": [
           {
            "colorbar": {
             "outlinewidth": 0,
             "ticks": ""
            },
            "colorscale": [
             [
              0,
              "#0d0887"
             ],
             [
              0.1111111111111111,
              "#46039f"
             ],
             [
              0.2222222222222222,
              "#7201a8"
             ],
             [
              0.3333333333333333,
              "#9c179e"
             ],
             [
              0.4444444444444444,
              "#bd3786"
             ],
             [
              0.5555555555555556,
              "#d8576b"
             ],
             [
              0.6666666666666666,
              "#ed7953"
             ],
             [
              0.7777777777777778,
              "#fb9f3a"
             ],
             [
              0.8888888888888888,
              "#fdca26"
             ],
             [
              1,
              "#f0f921"
             ]
            ],
            "type": "heatmap"
           }
          ],
          "heatmapgl": [
           {
            "colorbar": {
             "outlinewidth": 0,
             "ticks": ""
            },
            "colorscale": [
             [
              0,
              "#0d0887"
             ],
             [
              0.1111111111111111,
              "#46039f"
             ],
             [
              0.2222222222222222,
              "#7201a8"
             ],
             [
              0.3333333333333333,
              "#9c179e"
             ],
             [
              0.4444444444444444,
              "#bd3786"
             ],
             [
              0.5555555555555556,
              "#d8576b"
             ],
             [
              0.6666666666666666,
              "#ed7953"
             ],
             [
              0.7777777777777778,
              "#fb9f3a"
             ],
             [
              0.8888888888888888,
              "#fdca26"
             ],
             [
              1,
              "#f0f921"
             ]
            ],
            "type": "heatmapgl"
           }
          ],
          "histogram": [
           {
            "marker": {
             "pattern": {
              "fillmode": "overlay",
              "size": 10,
              "solidity": 0.2
             }
            },
            "type": "histogram"
           }
          ],
          "histogram2d": [
           {
            "colorbar": {
             "outlinewidth": 0,
             "ticks": ""
            },
            "colorscale": [
             [
              0,
              "#0d0887"
             ],
             [
              0.1111111111111111,
              "#46039f"
             ],
             [
              0.2222222222222222,
              "#7201a8"
             ],
             [
              0.3333333333333333,
              "#9c179e"
             ],
             [
              0.4444444444444444,
              "#bd3786"
             ],
             [
              0.5555555555555556,
              "#d8576b"
             ],
             [
              0.6666666666666666,
              "#ed7953"
             ],
             [
              0.7777777777777778,
              "#fb9f3a"
             ],
             [
              0.8888888888888888,
              "#fdca26"
             ],
             [
              1,
              "#f0f921"
             ]
            ],
            "type": "histogram2d"
           }
          ],
          "histogram2dcontour": [
           {
            "colorbar": {
             "outlinewidth": 0,
             "ticks": ""
            },
            "colorscale": [
             [
              0,
              "#0d0887"
             ],
             [
              0.1111111111111111,
              "#46039f"
             ],
             [
              0.2222222222222222,
              "#7201a8"
             ],
             [
              0.3333333333333333,
              "#9c179e"
             ],
             [
              0.4444444444444444,
              "#bd3786"
             ],
             [
              0.5555555555555556,
              "#d8576b"
             ],
             [
              0.6666666666666666,
              "#ed7953"
             ],
             [
              0.7777777777777778,
              "#fb9f3a"
             ],
             [
              0.8888888888888888,
              "#fdca26"
             ],
             [
              1,
              "#f0f921"
             ]
            ],
            "type": "histogram2dcontour"
           }
          ],
          "mesh3d": [
           {
            "colorbar": {
             "outlinewidth": 0,
             "ticks": ""
            },
            "type": "mesh3d"
           }
          ],
          "parcoords": [
           {
            "line": {
             "colorbar": {
              "outlinewidth": 0,
              "ticks": ""
             }
            },
            "type": "parcoords"
           }
          ],
          "pie": [
           {
            "automargin": true,
            "type": "pie"
           }
          ],
          "scatter": [
           {
            "fillpattern": {
             "fillmode": "overlay",
             "size": 10,
             "solidity": 0.2
            },
            "type": "scatter"
           }
          ],
          "scatter3d": [
           {
            "line": {
             "colorbar": {
              "outlinewidth": 0,
              "ticks": ""
             }
            },
            "marker": {
             "colorbar": {
              "outlinewidth": 0,
              "ticks": ""
             }
            },
            "type": "scatter3d"
           }
          ],
          "scattercarpet": [
           {
            "marker": {
             "colorbar": {
              "outlinewidth": 0,
              "ticks": ""
             }
            },
            "type": "scattercarpet"
           }
          ],
          "scattergeo": [
           {
            "marker": {
             "colorbar": {
              "outlinewidth": 0,
              "ticks": ""
             }
            },
            "type": "scattergeo"
           }
          ],
          "scattergl": [
           {
            "marker": {
             "colorbar": {
              "outlinewidth": 0,
              "ticks": ""
             }
            },
            "type": "scattergl"
           }
          ],
          "scattermapbox": [
           {
            "marker": {
             "colorbar": {
              "outlinewidth": 0,
              "ticks": ""
             }
            },
            "type": "scattermapbox"
           }
          ],
          "scatterpolar": [
           {
            "marker": {
             "colorbar": {
              "outlinewidth": 0,
              "ticks": ""
             }
            },
            "type": "scatterpolar"
           }
          ],
          "scatterpolargl": [
           {
            "marker": {
             "colorbar": {
              "outlinewidth": 0,
              "ticks": ""
             }
            },
            "type": "scatterpolargl"
           }
          ],
          "scatterternary": [
           {
            "marker": {
             "colorbar": {
              "outlinewidth": 0,
              "ticks": ""
             }
            },
            "type": "scatterternary"
           }
          ],
          "surface": [
           {
            "colorbar": {
             "outlinewidth": 0,
             "ticks": ""
            },
            "colorscale": [
             [
              0,
              "#0d0887"
             ],
             [
              0.1111111111111111,
              "#46039f"
             ],
             [
              0.2222222222222222,
              "#7201a8"
             ],
             [
              0.3333333333333333,
              "#9c179e"
             ],
             [
              0.4444444444444444,
              "#bd3786"
             ],
             [
              0.5555555555555556,
              "#d8576b"
             ],
             [
              0.6666666666666666,
              "#ed7953"
             ],
             [
              0.7777777777777778,
              "#fb9f3a"
             ],
             [
              0.8888888888888888,
              "#fdca26"
             ],
             [
              1,
              "#f0f921"
             ]
            ],
            "type": "surface"
           }
          ],
          "table": [
           {
            "cells": {
             "fill": {
              "color": "#EBF0F8"
             },
             "line": {
              "color": "white"
             }
            },
            "header": {
             "fill": {
              "color": "#C8D4E3"
             },
             "line": {
              "color": "white"
             }
            },
            "type": "table"
           }
          ]
         },
         "layout": {
          "annotationdefaults": {
           "arrowcolor": "#2a3f5f",
           "arrowhead": 0,
           "arrowwidth": 1
          },
          "autotypenumbers": "strict",
          "coloraxis": {
           "colorbar": {
            "outlinewidth": 0,
            "ticks": ""
           }
          },
          "colorscale": {
           "diverging": [
            [
             0,
             "#8e0152"
            ],
            [
             0.1,
             "#c51b7d"
            ],
            [
             0.2,
             "#de77ae"
            ],
            [
             0.3,
             "#f1b6da"
            ],
            [
             0.4,
             "#fde0ef"
            ],
            [
             0.5,
             "#f7f7f7"
            ],
            [
             0.6,
             "#e6f5d0"
            ],
            [
             0.7,
             "#b8e186"
            ],
            [
             0.8,
             "#7fbc41"
            ],
            [
             0.9,
             "#4d9221"
            ],
            [
             1,
             "#276419"
            ]
           ],
           "sequential": [
            [
             0,
             "#0d0887"
            ],
            [
             0.1111111111111111,
             "#46039f"
            ],
            [
             0.2222222222222222,
             "#7201a8"
            ],
            [
             0.3333333333333333,
             "#9c179e"
            ],
            [
             0.4444444444444444,
             "#bd3786"
            ],
            [
             0.5555555555555556,
             "#d8576b"
            ],
            [
             0.6666666666666666,
             "#ed7953"
            ],
            [
             0.7777777777777778,
             "#fb9f3a"
            ],
            [
             0.8888888888888888,
             "#fdca26"
            ],
            [
             1,
             "#f0f921"
            ]
           ],
           "sequentialminus": [
            [
             0,
             "#0d0887"
            ],
            [
             0.1111111111111111,
             "#46039f"
            ],
            [
             0.2222222222222222,
             "#7201a8"
            ],
            [
             0.3333333333333333,
             "#9c179e"
            ],
            [
             0.4444444444444444,
             "#bd3786"
            ],
            [
             0.5555555555555556,
             "#d8576b"
            ],
            [
             0.6666666666666666,
             "#ed7953"
            ],
            [
             0.7777777777777778,
             "#fb9f3a"
            ],
            [
             0.8888888888888888,
             "#fdca26"
            ],
            [
             1,
             "#f0f921"
            ]
           ]
          },
          "colorway": [
           "#636efa",
           "#EF553B",
           "#00cc96",
           "#ab63fa",
           "#FFA15A",
           "#19d3f3",
           "#FF6692",
           "#B6E880",
           "#FF97FF",
           "#FECB52"
          ],
          "font": {
           "color": "#2a3f5f"
          },
          "geo": {
           "bgcolor": "white",
           "lakecolor": "white",
           "landcolor": "#E5ECF6",
           "showlakes": true,
           "showland": true,
           "subunitcolor": "white"
          },
          "hoverlabel": {
           "align": "left"
          },
          "hovermode": "closest",
          "mapbox": {
           "style": "light"
          },
          "paper_bgcolor": "white",
          "plot_bgcolor": "#E5ECF6",
          "polar": {
           "angularaxis": {
            "gridcolor": "white",
            "linecolor": "white",
            "ticks": ""
           },
           "bgcolor": "#E5ECF6",
           "radialaxis": {
            "gridcolor": "white",
            "linecolor": "white",
            "ticks": ""
           }
          },
          "scene": {
           "xaxis": {
            "backgroundcolor": "#E5ECF6",
            "gridcolor": "white",
            "gridwidth": 2,
            "linecolor": "white",
            "showbackground": true,
            "ticks": "",
            "zerolinecolor": "white"
           },
           "yaxis": {
            "backgroundcolor": "#E5ECF6",
            "gridcolor": "white",
            "gridwidth": 2,
            "linecolor": "white",
            "showbackground": true,
            "ticks": "",
            "zerolinecolor": "white"
           },
           "zaxis": {
            "backgroundcolor": "#E5ECF6",
            "gridcolor": "white",
            "gridwidth": 2,
            "linecolor": "white",
            "showbackground": true,
            "ticks": "",
            "zerolinecolor": "white"
           }
          },
          "shapedefaults": {
           "line": {
            "color": "#2a3f5f"
           }
          },
          "ternary": {
           "aaxis": {
            "gridcolor": "white",
            "linecolor": "white",
            "ticks": ""
           },
           "baxis": {
            "gridcolor": "white",
            "linecolor": "white",
            "ticks": ""
           },
           "bgcolor": "#E5ECF6",
           "caxis": {
            "gridcolor": "white",
            "linecolor": "white",
            "ticks": ""
           }
          },
          "title": {
           "x": 0.05
          },
          "xaxis": {
           "automargin": true,
           "gridcolor": "white",
           "linecolor": "white",
           "ticks": "",
           "title": {
            "standoff": 15
           },
           "zerolinecolor": "white",
           "zerolinewidth": 2
          },
          "yaxis": {
           "automargin": true,
           "gridcolor": "white",
           "linecolor": "white",
           "ticks": "",
           "title": {
            "standoff": 15
           },
           "zerolinecolor": "white",
           "zerolinewidth": 2
          }
         }
        },
        "title": {
         "text": "IRFC Candlestick Chart with SMA and WMA"
        },
        "xaxis": {
         "title": {
          "text": "Date"
         }
        },
        "yaxis": {
         "title": {
          "text": "Price (INR)"
         }
        }
       }
      }
     },
     "metadata": {},
     "output_type": "display_data"
    }
   ],
   "source": [
    "# Step 10: Create Interactive Charts with Plotly\n",
    "\n",
    "# Plotly Interactive Candlestick Chart with SMA and WMA\n",
    "fig = go.Figure()\n",
    "\n",
    "# Add candlestick chart\n",
    "fig.add_trace(go.Candlestick(x=data.index,\n",
    "                             open=data['Open'],\n",
    "                             high=data['High'],\n",
    "                             low=data['Low'],\n",
    "                             close=data['Close'],\n",
    "                             name='Candlestick'))\n",
    "\n",
    "# Add moving averages\n",
    "fig.add_trace(go.Scatter(x=data.index, y=data['SMA_5'], mode='lines', name='5-Day SMA'))\n",
    "fig.add_trace(go.Scatter(x=data.index, y=data['SMA_20'], mode='lines', name='20-Day SMA'))\n",
    "fig.add_trace(go.Scatter(x=data.index, y=data['WMA_5'], mode='lines', name='5-Day WMA'))\n",
    "fig.add_trace(go.Scatter(x=data.index, y=data['WMA_20'], mode='lines', name='20-Day WMA'))\n",
    "\n",
    "# Update layout for better presentation\n",
    "fig.update_layout(title='IRFC Candlestick Chart with SMA and WMA',\n",
    "                  xaxis_title='Date',\n",
    "                  yaxis_title='Price (INR)',\n",
    "                  legend=dict(x=0, y=1),\n",
    "                  hovermode='x')\n",
    "\n",
    "fig.show()\n"
   ]
  },
  {
   "cell_type": "markdown",
   "id": "f25165f4",
   "metadata": {},
   "source": [
    "# Conclusion:\n",
    "This notebook provides a comprehensive guide to building and evaluating a Moving Average Model using real-time stock data. It includes calculations for Simple Moving Averages (SMA), Weighted Moving Averages (WMA), and data decomposition to understand time series components. It also includes interactive Plotly charts for visualization and evaluation of the model’s performance."
   ]
  }
 ],
 "metadata": {
  "kernelspec": {
   "display_name": "base",
   "language": "python",
   "name": "python3"
  },
  "language_info": {
   "codemirror_mode": {
    "name": "ipython",
    "version": 3
   },
   "file_extension": ".py",
   "mimetype": "text/x-python",
   "name": "python",
   "nbconvert_exporter": "python",
   "pygments_lexer": "ipython3",
   "version": "3.13.5"
  }
 },
 "nbformat": 4,
 "nbformat_minor": 5
}
